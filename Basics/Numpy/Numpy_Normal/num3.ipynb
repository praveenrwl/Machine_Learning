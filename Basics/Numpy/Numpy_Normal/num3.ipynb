{
 "cells": [
  {
   "cell_type": "markdown",
   "id": "e71a50d7-36b3-4f71-9234-76437dd6c71e",
   "metadata": {},
   "source": [
    "## Numpy Array vs Python Lists\n",
    "\n",
    "##### 1. Faster\n",
    "##### 2. Convenient\n",
    "##### 3. Less Memory\n"
   ]
  },
  {
   "cell_type": "code",
   "execution_count": 1,
   "id": "db3236f7-6258-459f-8839-0f19eee3cf2e",
   "metadata": {},
   "outputs": [],
   "source": [
    "import numpy as np"
   ]
  },
  {
   "cell_type": "code",
   "execution_count": 2,
   "id": "a4e1c854-5602-4280-b083-f6d87f3eb6fe",
   "metadata": {},
   "outputs": [],
   "source": [
    "list_a = range(100)\n",
    "arr1 = np.arange(100)"
   ]
  },
  {
   "cell_type": "code",
   "execution_count": 3,
   "id": "db89a09e-7aea-4b46-b07b-b072ba325341",
   "metadata": {},
   "outputs": [],
   "source": [
    "import sys #system"
   ]
  },
  {
   "cell_type": "code",
   "execution_count": 4,
   "id": "55cc12e5-2e23-42a6-8e76-bb0b0c0de8b6",
   "metadata": {},
   "outputs": [
    {
     "name": "stdout",
     "output_type": "stream",
     "text": [
      "2800\n"
     ]
    }
   ],
   "source": [
    "# 0 -100 >>> 87 come in b/w so size of 87 into length of list\n",
    "print(sys.getsizeof(87)*len(list_a)) \n",
    "#2800 bytes"
   ]
  },
  {
   "cell_type": "code",
   "execution_count": 5,
   "id": "49fda386-9364-4c61-b27e-e2c96bf03ca3",
   "metadata": {},
   "outputs": [
    {
     "name": "stdout",
     "output_type": "stream",
     "text": [
      "400\n"
     ]
    }
   ],
   "source": [
    "print(arr1.itemsize*arr1.size)"
   ]
  },
  {
   "cell_type": "code",
   "execution_count": 6,
   "id": "bb9887a8",
   "metadata": {},
   "outputs": [],
   "source": [
    "import time"
   ]
  },
  {
   "cell_type": "code",
   "execution_count": 7,
   "id": "4762b567",
   "metadata": {},
   "outputs": [
    {
     "name": "stdout",
     "output_type": "stream",
     "text": [
      "0.061820268630981445\n"
     ]
    }
   ],
   "source": [
    "x = range(1000000)\n",
    "y = range(1000000, 2000000)\n",
    "\n",
    "start_time = time.time()\n",
    "\n",
    "c = [x+y for x,y in zip(x,y)]\n",
    "\n",
    "print(time.time() - start_time)"
   ]
  },
  {
   "cell_type": "code",
   "execution_count": 8,
   "id": "f483df9f",
   "metadata": {},
   "outputs": [
    {
     "name": "stdout",
     "output_type": "stream",
     "text": [
      "0.009006977081298828\n"
     ]
    }
   ],
   "source": [
    "a = np.arange(1000000)\n",
    "b = np.arange(1000000,2000000)\n",
    "\n",
    "start_time = time.time()\n",
    "\n",
    "c = a+b\n",
    "\n",
    "print(time.time() - start_time)"
   ]
  },
  {
   "cell_type": "code",
   "execution_count": null,
   "id": "3725fbf9",
   "metadata": {},
   "outputs": [],
   "source": []
  }
 ],
 "metadata": {
  "kernelspec": {
   "display_name": "Python 3 (ipykernel)",
   "language": "python",
   "name": "python3"
  },
  "language_info": {
   "codemirror_mode": {
    "name": "ipython",
    "version": 3
   },
   "file_extension": ".py",
   "mimetype": "text/x-python",
   "name": "python",
   "nbconvert_exporter": "python",
   "pygments_lexer": "ipython3",
   "version": "3.12.3"
  }
 },
 "nbformat": 4,
 "nbformat_minor": 5
}
