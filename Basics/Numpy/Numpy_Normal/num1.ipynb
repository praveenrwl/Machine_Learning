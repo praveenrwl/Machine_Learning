{
 "cells": [
  {
   "cell_type": "markdown",
   "id": "f181e9d1-cbc3-46b0-9ece-fb5d5cbd65c2",
   "metadata": {},
   "source": [
    "## Creating numpy/ n-d arrays"
   ]
  },
  {
   "cell_type": "code",
   "execution_count": 3,
   "id": "d3dcb5db-1e65-4760-88c9-a79aa6767814",
   "metadata": {},
   "outputs": [],
   "source": [
    "import numpy as np"
   ]
  },
  {
   "cell_type": "markdown",
   "id": "44d85b54-6f0e-4c25-82a2-d580fbecbc00",
   "metadata": {},
   "source": [
    "#### Using np.array()// 1D and 2D"
   ]
  },
  {
   "cell_type": "code",
   "execution_count": 5,
   "id": "8d802206-955c-4daa-9749-c09f93da4781",
   "metadata": {},
   "outputs": [
    {
     "data": {
      "text/plain": [
       "array([1, 2, 3, 4, 5])"
      ]
     },
     "execution_count": 5,
     "metadata": {},
     "output_type": "execute_result"
    }
   ],
   "source": [
    "arr1 = np.array([1,2,3,4,5]) #Vector\n",
    "arr1"
   ]
  },
  {
   "cell_type": "code",
   "execution_count": 7,
   "id": "ad7ad164-31ec-48a2-b888-5a1750a52240",
   "metadata": {},
   "outputs": [
    {
     "data": {
      "text/plain": [
       "numpy.ndarray"
      ]
     },
     "execution_count": 7,
     "metadata": {},
     "output_type": "execute_result"
    }
   ],
   "source": [
    "type(arr1)"
   ]
  },
  {
   "cell_type": "code",
   "execution_count": 9,
   "id": "af1779ac-2ff0-4cd9-a2af-6ff053262141",
   "metadata": {},
   "outputs": [
    {
     "data": {
      "text/plain": [
       "array([[1, 2, 3],\n",
       "       [4, 5, 6]])"
      ]
     },
     "execution_count": 9,
     "metadata": {},
     "output_type": "execute_result"
    }
   ],
   "source": [
    "arr2 = np.array([[1,2,3],[4,5,6]]) #Matrix\n",
    "arr2"
   ]
  },
  {
   "cell_type": "markdown",
   "id": "18f21932-7c50-4525-ab45-ccec40a8fb87",
   "metadata": {},
   "source": [
    "#### Using np.zeros/ones/empty/random()"
   ]
  },
  {
   "cell_type": "code",
   "execution_count": 11,
   "id": "ced4e9f0-836a-46ba-8fb3-72e8a5b41c48",
   "metadata": {},
   "outputs": [
    {
     "data": {
      "text/plain": [
       "array([[0., 0., 0.],\n",
       "       [0., 0., 0.]])"
      ]
     },
     "execution_count": 11,
     "metadata": {},
     "output_type": "execute_result"
    }
   ],
   "source": [
    "arr3 = np.zeros((2,3))\n",
    "arr3"
   ]
  },
  {
   "cell_type": "code",
   "execution_count": 14,
   "id": "0d704bfe-ef38-4e37-bdce-a83593d02df5",
   "metadata": {},
   "outputs": [
    {
     "data": {
      "text/plain": [
       "array([[1., 1., 1.],\n",
       "       [1., 1., 1.]])"
      ]
     },
     "execution_count": 14,
     "metadata": {},
     "output_type": "execute_result"
    }
   ],
   "source": [
    "arr4 = np.ones((2,3))\n",
    "arr4"
   ]
  },
  {
   "cell_type": "markdown",
   "id": "e195d324-432e-49fb-b803-d1bb8394a1b1",
   "metadata": {},
   "source": [
    "#### Using np.identity()"
   ]
  },
  {
   "cell_type": "code",
   "execution_count": 20,
   "id": "2724c9e9-f0e0-48b8-a267-0e6f9b5b5ace",
   "metadata": {},
   "outputs": [
    {
     "data": {
      "text/plain": [
       "array([[1., 0., 0.],\n",
       "       [0., 1., 0.],\n",
       "       [0., 0., 1.]])"
      ]
     },
     "execution_count": 20,
     "metadata": {},
     "output_type": "execute_result"
    }
   ],
   "source": [
    "arr5 = np.identity(3)\n",
    "arr5"
   ]
  },
  {
   "cell_type": "markdown",
   "id": "098adcba-63e5-4bb8-a880-c34df29b9aa3",
   "metadata": {},
   "source": [
    "#### Using np.arange()"
   ]
  },
  {
   "cell_type": "code",
   "execution_count": 32,
   "id": "8713cf0f-ff02-49fe-93b2-613c31473b58",
   "metadata": {},
   "outputs": [
    {
     "name": "stdout",
     "output_type": "stream",
     "text": [
      "[ 1  2  3  4  5  6  7  8  9 10 11 12 13 14 15 16 17 18 19]\n",
      "[ 1  3  5  7  9 11 13 15 17 19]\n"
     ]
    }
   ],
   "source": [
    "arr6 = np.arange(1,20)\n",
    "arr7 = np.arange(1,20,2)\n",
    "print(arr6)\n",
    "print(arr7)"
   ]
  },
  {
   "cell_type": "markdown",
   "id": "1231cbef-4833-4b23-9cee-fe16324ea31a",
   "metadata": {},
   "source": [
    "#### Using np.linspace()"
   ]
  },
  {
   "cell_type": "code",
   "execution_count": 34,
   "id": "cefc793e-6308-44fc-90df-bae34382b43e",
   "metadata": {},
   "outputs": [
    {
     "data": {
      "text/plain": [
       "array([10.        , 11.11111111, 12.22222222, 13.33333333, 14.44444444,\n",
       "       15.55555556, 16.66666667, 17.77777778, 18.88888889, 20.        ])"
      ]
     },
     "execution_count": 34,
     "metadata": {},
     "output_type": "execute_result"
    }
   ],
   "source": [
    "arr8 = np.linspace(10,20,10)\n",
    "arr8"
   ]
  },
  {
   "cell_type": "markdown",
   "id": "100acae7-5654-4655-80fe-3926e0a65dd0",
   "metadata": {},
   "source": [
    "#### Using np.Copy()"
   ]
  },
  {
   "cell_type": "code",
   "execution_count": 36,
   "id": "7b4ec124-83ab-4568-8def-4fa327d55033",
   "metadata": {},
   "outputs": [
    {
     "data": {
      "text/plain": [
       "array([ 1,  3,  5,  7,  9, 11, 13, 15, 17, 19])"
      ]
     },
     "execution_count": 36,
     "metadata": {},
     "output_type": "execute_result"
    }
   ],
   "source": [
    "arr9 = arr7.copy()\n",
    "arr9"
   ]
  },
  {
   "cell_type": "code",
   "execution_count": null,
   "id": "ec112401-07f0-4fcf-80b8-766b77f20272",
   "metadata": {},
   "outputs": [],
   "source": []
  }
 ],
 "metadata": {
  "kernelspec": {
   "display_name": "Python 3 (ipykernel)",
   "language": "python",
   "name": "python3"
  },
  "language_info": {
   "codemirror_mode": {
    "name": "ipython",
    "version": 3
   },
   "file_extension": ".py",
   "mimetype": "text/x-python",
   "name": "python",
   "nbconvert_exporter": "python",
   "pygments_lexer": "ipython3",
   "version": "3.12.4"
  }
 },
 "nbformat": 4,
 "nbformat_minor": 5
}
