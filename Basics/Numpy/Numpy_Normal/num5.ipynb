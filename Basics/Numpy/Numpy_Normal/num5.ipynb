{
 "cells": [
  {
   "cell_type": "markdown",
   "id": "a333ed20",
   "metadata": {},
   "source": [
    "# Numpy Reshaping"
   ]
  },
  {
   "cell_type": "code",
   "execution_count": null,
   "id": "5780848c",
   "metadata": {},
   "outputs": [],
   "source": [
    "#1. Ravel\n",
    "#2. Reshape\n",
    "#3. Transpose\n",
    "#4. Stacking\n",
    "#5. Splitting"
   ]
  },
  {
   "cell_type": "code",
   "execution_count": 1,
   "id": "3995576d",
   "metadata": {},
   "outputs": [],
   "source": [
    "import numpy as np"
   ]
  },
  {
   "cell_type": "code",
   "execution_count": 6,
   "id": "31b3cb7a",
   "metadata": {},
   "outputs": [],
   "source": [
    "arr1 = np.array([[5,6],[7,8],[9,10]])"
   ]
  },
  {
   "cell_type": "code",
   "execution_count": 7,
   "id": "16a0b80d",
   "metadata": {},
   "outputs": [
    {
     "data": {
      "text/plain": [
       "array([[ 5,  6],\n",
       "       [ 7,  8],\n",
       "       [ 9, 10]])"
      ]
     },
     "execution_count": 7,
     "metadata": {},
     "output_type": "execute_result"
    }
   ],
   "source": [
    "arr1"
   ]
  },
  {
   "cell_type": "code",
   "execution_count": 8,
   "id": "4cb6d80a",
   "metadata": {},
   "outputs": [
    {
     "data": {
      "text/plain": [
       "2"
      ]
     },
     "execution_count": 8,
     "metadata": {},
     "output_type": "execute_result"
    }
   ],
   "source": [
    "arr1.ndim"
   ]
  },
  {
   "cell_type": "code",
   "execution_count": 9,
   "id": "64e3163b",
   "metadata": {},
   "outputs": [
    {
     "data": {
      "text/plain": [
       "array([ 5,  6,  7,  8,  9, 10])"
      ]
     },
     "execution_count": 9,
     "metadata": {},
     "output_type": "execute_result"
    }
   ],
   "source": [
    "arr1.ravel()"
   ]
  },
  {
   "cell_type": "code",
   "execution_count": 10,
   "id": "a438bc11",
   "metadata": {},
   "outputs": [
    {
     "data": {
      "text/plain": [
       "array([[ 5,  7,  9],\n",
       "       [ 6,  8, 10]])"
      ]
     },
     "execution_count": 10,
     "metadata": {},
     "output_type": "execute_result"
    }
   ],
   "source": [
    "arr1.transpose()"
   ]
  },
  {
   "cell_type": "code",
   "execution_count": 15,
   "id": "b0178093",
   "metadata": {},
   "outputs": [],
   "source": [
    "arr2 = np.arange(12,18).reshape(2,3)\n",
    "arr3 = np.arange(34,40).reshape(2,3)"
   ]
  },
  {
   "cell_type": "code",
   "execution_count": 17,
   "id": "af960afc",
   "metadata": {},
   "outputs": [
    {
     "data": {
      "text/plain": [
       "array([[12, 13, 14, 34, 35, 36],\n",
       "       [15, 16, 17, 37, 38, 39]])"
      ]
     },
     "execution_count": 17,
     "metadata": {},
     "output_type": "execute_result"
    }
   ],
   "source": [
    "np.hstack((arr2, arr3))"
   ]
  },
  {
   "cell_type": "code",
   "execution_count": 18,
   "id": "9f7f4806",
   "metadata": {},
   "outputs": [
    {
     "data": {
      "text/plain": [
       "array([[12, 13, 14],\n",
       "       [15, 16, 17],\n",
       "       [34, 35, 36],\n",
       "       [37, 38, 39]])"
      ]
     },
     "execution_count": 18,
     "metadata": {},
     "output_type": "execute_result"
    }
   ],
   "source": [
    "np.vstack((arr2, arr3))"
   ]
  },
  {
   "cell_type": "code",
   "execution_count": 22,
   "id": "b1ef5726",
   "metadata": {},
   "outputs": [
    {
     "data": {
      "text/plain": [
       "[array([[12, 13, 14]]), array([[15, 16, 17]])]"
      ]
     },
     "execution_count": 22,
     "metadata": {},
     "output_type": "execute_result"
    }
   ],
   "source": [
    "np.hsplit(arr3, 3)\n",
    "np.vsplit(arr2,2)"
   ]
  },
  {
   "cell_type": "markdown",
   "id": "6352a666",
   "metadata": {},
   "source": [
    "### Fancy Indexing in Numpy"
   ]
  },
  {
   "cell_type": "code",
   "execution_count": 23,
   "id": "e0eadee1",
   "metadata": {},
   "outputs": [
    {
     "data": {
      "text/plain": [
       "array([[ 0,  1,  2,  3],\n",
       "       [ 4,  5,  6,  7],\n",
       "       [ 8,  9, 10, 11],\n",
       "       [12, 13, 14, 15],\n",
       "       [16, 17, 18, 19],\n",
       "       [20, 21, 22, 23]])"
      ]
     },
     "execution_count": 23,
     "metadata": {},
     "output_type": "execute_result"
    }
   ],
   "source": [
    "arr4 = np.arange(24).reshape(6,4)\n",
    "arr4"
   ]
  },
  {
   "cell_type": "code",
   "execution_count": 24,
   "id": "cab5424a",
   "metadata": {},
   "outputs": [
    {
     "data": {
      "text/plain": [
       "array([[ 0,  1,  2,  3],\n",
       "       [ 8,  9, 10, 11],\n",
       "       [16, 17, 18, 19]])"
      ]
     },
     "execution_count": 24,
     "metadata": {},
     "output_type": "execute_result"
    }
   ],
   "source": [
    "arr4[[0,2,4]]"
   ]
  },
  {
   "cell_type": "markdown",
   "id": "38dffd81",
   "metadata": {},
   "source": [
    "### Indexing with Boolean Arrays"
   ]
  },
  {
   "cell_type": "code",
   "execution_count": 28,
   "id": "c333e364",
   "metadata": {},
   "outputs": [
    {
     "data": {
      "text/plain": [
       "array([[28, 62, 86, 45, 47],\n",
       "       [32, 36, 17, 93, 36],\n",
       "       [85, 68, 72, 21, 79],\n",
       "       [94, 71, 11, 70, 28]])"
      ]
     },
     "execution_count": 28,
     "metadata": {},
     "output_type": "execute_result"
    }
   ],
   "source": [
    "arr5 = np.random.randint(low=1, high=100, size=20).reshape(4,5)\n",
    "arr5"
   ]
  },
  {
   "cell_type": "code",
   "execution_count": 29,
   "id": "89ccc7ce",
   "metadata": {},
   "outputs": [
    {
     "data": {
      "text/plain": [
       "array([94, 71, 11, 70, 28])"
      ]
     },
     "execution_count": 29,
     "metadata": {},
     "output_type": "execute_result"
    }
   ],
   "source": [
    "arr5[3]"
   ]
  },
  {
   "cell_type": "code",
   "execution_count": 31,
   "id": "5ba18558",
   "metadata": {},
   "outputs": [
    {
     "data": {
      "text/plain": [
       "array([[False,  True,  True, False, False],\n",
       "       [False, False, False,  True, False],\n",
       "       [ True,  True,  True, False,  True],\n",
       "       [ True,  True, False,  True, False]])"
      ]
     },
     "execution_count": 31,
     "metadata": {},
     "output_type": "execute_result"
    }
   ],
   "source": [
    "arr5>50"
   ]
  },
  {
   "cell_type": "code",
   "execution_count": 32,
   "id": "6ca59d50",
   "metadata": {},
   "outputs": [
    {
     "data": {
      "text/plain": [
       "array([62, 86, 93, 85, 68, 72, 79, 94, 71, 70])"
      ]
     },
     "execution_count": 32,
     "metadata": {},
     "output_type": "execute_result"
    }
   ],
   "source": [
    "# Indexing using boolean array\n",
    "arr5[arr5>50]"
   ]
  },
  {
   "cell_type": "code",
   "execution_count": 35,
   "id": "9c6f7008",
   "metadata": {},
   "outputs": [
    {
     "data": {
      "text/plain": [
       "array([93, 85, 79, 71])"
      ]
     },
     "execution_count": 35,
     "metadata": {},
     "output_type": "execute_result"
    }
   ],
   "source": [
    "arr5[(arr5>50) & (arr5%2 != 0)]"
   ]
  },
  {
   "cell_type": "code",
   "execution_count": 36,
   "id": "5554daca",
   "metadata": {},
   "outputs": [],
   "source": [
    "arr5[(arr5>50) & (arr5%2 != 0)] = 0"
   ]
  },
  {
   "cell_type": "code",
   "execution_count": 37,
   "id": "4e0a87e8",
   "metadata": {},
   "outputs": [
    {
     "data": {
      "text/plain": [
       "array([[28, 62, 86, 45, 47],\n",
       "       [32, 36, 17,  0, 36],\n",
       "       [ 0, 68, 72, 21,  0],\n",
       "       [94,  0, 11, 70, 28]])"
      ]
     },
     "execution_count": 37,
     "metadata": {},
     "output_type": "execute_result"
    }
   ],
   "source": [
    "arr5"
   ]
  },
  {
   "cell_type": "code",
   "execution_count": null,
   "id": "70a8a1f8",
   "metadata": {},
   "outputs": [],
   "source": []
  }
 ],
 "metadata": {
  "kernelspec": {
   "display_name": "Python 3 (ipykernel)",
   "language": "python",
   "name": "python3"
  },
  "language_info": {
   "codemirror_mode": {
    "name": "ipython",
    "version": 3
   },
   "file_extension": ".py",
   "mimetype": "text/x-python",
   "name": "python",
   "nbconvert_exporter": "python",
   "pygments_lexer": "ipython3",
   "version": "3.12.3"
  }
 },
 "nbformat": 4,
 "nbformat_minor": 5
}
