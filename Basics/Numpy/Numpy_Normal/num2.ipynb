{
 "cells": [
  {
   "cell_type": "markdown",
   "id": "232f4228-e108-4a77-8fc8-98cfd6afd100",
   "metadata": {},
   "source": [
    "## Numpy Array Properties and Attributes"
   ]
  },
  {
   "cell_type": "code",
   "execution_count": 3,
   "id": "5868bdd6-f935-40e4-9650-2e25eb40789c",
   "metadata": {},
   "outputs": [],
   "source": [
    "import numpy as np"
   ]
  },
  {
   "cell_type": "code",
   "execution_count": 5,
   "id": "46eba459-6ad6-47b5-b2a3-bbe0424f4f33",
   "metadata": {},
   "outputs": [
    {
     "data": {
      "text/plain": [
       "array([1, 2, 3, 4, 5])"
      ]
     },
     "execution_count": 5,
     "metadata": {},
     "output_type": "execute_result"
    }
   ],
   "source": [
    "arr1 = np.array([1,2,3,4,5]) #Vector\n",
    "arr1"
   ]
  },
  {
   "cell_type": "markdown",
   "id": "64df45cb-60c2-4cd1-8b7e-34e359f8af29",
   "metadata": {},
   "source": [
    "#### Using Shape/ nDIM"
   ]
  },
  {
   "cell_type": "code",
   "execution_count": 15,
   "id": "2fc4caea-402e-4df9-aef3-8a8145885f88",
   "metadata": {},
   "outputs": [
    {
     "name": "stdout",
     "output_type": "stream",
     "text": [
      "(5,)\n",
      "1\n"
     ]
    }
   ],
   "source": [
    "print(arr1.shape) #Shape of matrix\n",
    "print(arr1.ndim)  # dimension"
   ]
  },
  {
   "cell_type": "code",
   "execution_count": 9,
   "id": "fb913f20-a9b3-46c8-b7d6-20d5780cbc56",
   "metadata": {},
   "outputs": [
    {
     "data": {
      "text/plain": [
       "array([[1, 2, 3],\n",
       "       [4, 5, 6]])"
      ]
     },
     "execution_count": 9,
     "metadata": {},
     "output_type": "execute_result"
    }
   ],
   "source": [
    "arr2 = np.array([[1,2,3],[4,5,6]]) #Matrix\n",
    "arr2"
   ]
  },
  {
   "cell_type": "code",
   "execution_count": 11,
   "id": "313ec5d7-c60d-4bf5-acfb-47b4dbba5684",
   "metadata": {},
   "outputs": [
    {
     "data": {
      "text/plain": [
       "(2, 3)"
      ]
     },
     "execution_count": 11,
     "metadata": {},
     "output_type": "execute_result"
    }
   ],
   "source": [
    "print(arr2.shape)\n",
    "print(arr2.ndim)"
   ]
  },
  {
   "cell_type": "code",
   "execution_count": 17,
   "id": "80f4a131-5911-4c51-809e-79fcb06596a4",
   "metadata": {},
   "outputs": [
    {
     "data": {
      "text/plain": [
       "array([[[1, 2],\n",
       "        [3, 4]],\n",
       "\n",
       "       [[4, 5],\n",
       "        [6, 7]]])"
      ]
     },
     "execution_count": 17,
     "metadata": {},
     "output_type": "execute_result"
    }
   ],
   "source": [
    "arr3 = np.array([[[1,2],[3,4]], [[4,5],[6,7]]]) #Array is function in python that's y we use () \n",
    "arr3"
   ]
  },
  {
   "cell_type": "code",
   "execution_count": 19,
   "id": "023e9b51-4313-4562-ae6a-7c902e9238c9",
   "metadata": {},
   "outputs": [
    {
     "name": "stdout",
     "output_type": "stream",
     "text": [
      "(2, 2, 2)\n",
      "3\n"
     ]
    }
   ],
   "source": [
    "print(arr3.shape)\n",
    "print(arr3.ndim)"
   ]
  },
  {
   "cell_type": "markdown",
   "id": "6978bd1b-74df-4747-9769-6f6e0aa782f0",
   "metadata": {},
   "source": [
    "#### Using Size"
   ]
  },
  {
   "cell_type": "code",
   "execution_count": 21,
   "id": "ccdaebef-bbfb-4c08-a1ee-6fb3442e0a8e",
   "metadata": {},
   "outputs": [
    {
     "data": {
      "text/plain": [
       "5"
      ]
     },
     "execution_count": 21,
     "metadata": {},
     "output_type": "execute_result"
    }
   ],
   "source": [
    "arr1.size"
   ]
  },
  {
   "cell_type": "code",
   "execution_count": 23,
   "id": "e199bec7-9890-4e5d-8440-59dcf5f7452d",
   "metadata": {},
   "outputs": [
    {
     "data": {
      "text/plain": [
       "8"
      ]
     },
     "execution_count": 23,
     "metadata": {},
     "output_type": "execute_result"
    }
   ],
   "source": [
    "arr3.size"
   ]
  },
  {
   "cell_type": "markdown",
   "id": "8b3d77e5-fe2f-47b2-b16c-9a857b571206",
   "metadata": {},
   "source": [
    "#### Using Itemsize"
   ]
  },
  {
   "cell_type": "code",
   "execution_count": 29,
   "id": "c3b12e3d-0369-421b-9a43-f0be4532beef",
   "metadata": {},
   "outputs": [
    {
     "name": "stdout",
     "output_type": "stream",
     "text": [
      "4\n",
      "4\n"
     ]
    }
   ],
   "source": [
    "print(arr1.itemsize)\n",
    "print(arr3.itemsize)"
   ]
  },
  {
   "cell_type": "markdown",
   "id": "136a6a76-ea43-436a-b262-814caff89cba",
   "metadata": {},
   "source": [
    "#### Using Dtype"
   ]
  },
  {
   "cell_type": "code",
   "execution_count": 33,
   "id": "794cf040-2b8f-44a6-848d-6dd9500377ea",
   "metadata": {},
   "outputs": [
    {
     "data": {
      "text/plain": [
       "dtype('int32')"
      ]
     },
     "execution_count": 33,
     "metadata": {},
     "output_type": "execute_result"
    }
   ],
   "source": [
    " arr3.dtype"
   ]
  },
  {
   "cell_type": "markdown",
   "id": "67b1cc15-a5ad-4f34-aa9f-d12ce8f46d06",
   "metadata": {},
   "source": [
    "#### Using astype()"
   ]
  },
  {
   "cell_type": "code",
   "execution_count": 37,
   "id": "7080ddbd-e83d-4b28-ac4d-14d00e782b9f",
   "metadata": {},
   "outputs": [
    {
     "data": {
      "text/plain": [
       "array([[1., 2., 3.],\n",
       "       [4., 5., 6.]])"
      ]
     },
     "execution_count": 37,
     "metadata": {},
     "output_type": "execute_result"
    }
   ],
   "source": [
    "arr2.astype('float')"
   ]
  },
  {
   "cell_type": "code",
   "execution_count": null,
   "id": "eb680806-b5a7-4ed6-a176-650dfffeaca5",
   "metadata": {},
   "outputs": [],
   "source": []
  }
 ],
 "metadata": {
  "kernelspec": {
   "display_name": "Python 3 (ipykernel)",
   "language": "python",
   "name": "python3"
  },
  "language_info": {
   "codemirror_mode": {
    "name": "ipython",
    "version": 3
   },
   "file_extension": ".py",
   "mimetype": "text/x-python",
   "name": "python",
   "nbconvert_exporter": "python",
   "pygments_lexer": "ipython3",
   "version": "3.12.4"
  }
 },
 "nbformat": 4,
 "nbformat_minor": 5
}
