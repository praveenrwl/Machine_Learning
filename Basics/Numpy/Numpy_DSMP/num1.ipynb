{
 "cells": [
  {
   "cell_type": "markdown",
   "id": "98576c59-0ca4-4c5f-9e33-1835a53370c9",
   "metadata": {},
   "source": [
    "## NUMPY: FUNDAMENTAL PACKAGE FOR SCIENTIFIC COMPUTING IN PYTHON"
   ]
  },
  {
   "cell_type": "code",
   "execution_count": 6,
   "id": "b6e88341-7302-4cc6-af63-66f42956ba28",
   "metadata": {},
   "outputs": [
    {
     "name": "stdout",
     "output_type": "stream",
     "text": [
      "[1 2 3]\n"
     ]
    }
   ],
   "source": [
    "import numpy as np\n",
    "\n",
    "# 1D NUMPY ARRAY - VECTOR\n",
    "a = np.array([1,2,3])\n",
    "print(a)"
   ]
  },
  {
   "cell_type": "code",
   "execution_count": 7,
   "id": "615db239-158d-4b0e-bef2-e39a8ec251d1",
   "metadata": {},
   "outputs": [
    {
     "name": "stdout",
     "output_type": "stream",
     "text": [
      "[[1 2 3]\n",
      " [4 5 6]]\n"
     ]
    }
   ],
   "source": [
    "# 2D NUMPY ARRAY - MATRIX\n",
    "b = np.array([[1,2,3],[4,5,6]])\n",
    "print(b)"
   ]
  },
  {
   "cell_type": "code",
   "execution_count": 8,
   "id": "1556a03b-5026-4920-b776-d8f17218f512",
   "metadata": {},
   "outputs": [
    {
     "name": "stdout",
     "output_type": "stream",
     "text": [
      "[[[1 2]\n",
      "  [3 4]]\n",
      "\n",
      " [[5 6]\n",
      "  [7 8]]]\n"
     ]
    }
   ],
   "source": [
    "# 3D NUMPY ARRAY - TENSOR\n",
    "c = np.array([[[1,2],[3,4]],[[5,6],[7,8]]])\n",
    "print(c)"
   ]
  },
  {
   "cell_type": "code",
   "execution_count": 13,
   "id": "4e3435cb-6035-439b-98cd-1e39cc1c436d",
   "metadata": {},
   "outputs": [
    {
     "name": "stdout",
     "output_type": "stream",
     "text": [
      "[1. 2. 3.]\n",
      "[ True  True  True]\n"
     ]
    }
   ],
   "source": [
    "# dtype\n",
    "\n",
    "print(np.array([1,2,3], dtype = float))\n",
    "print(np.array([1,2,3], dtype = bool))"
   ]
  },
  {
   "cell_type": "code",
   "execution_count": 15,
   "id": "41450fba-b8b4-459a-b1ff-1a1dfb73775f",
   "metadata": {},
   "outputs": [
    {
     "name": "stdout",
     "output_type": "stream",
     "text": [
      "[ 1  2  3  4  5  6  7  8  9 10]\n",
      "[1 3 5 7 9]\n"
     ]
    }
   ],
   "source": [
    "# np.arange\n",
    "\n",
    "print(np.arange(1, 11))\n",
    "print(np.arange(1,11,2))\n"
   ]
  },
  {
   "cell_type": "code",
   "execution_count": 20,
   "id": "2ba4775b-f214-4a3c-b472-691727bfe6bb",
   "metadata": {},
   "outputs": [
    {
     "name": "stdout",
     "output_type": "stream",
     "text": [
      "[[ 1  2  3  4  5]\n",
      " [ 6  7  8  9 10]]\n",
      "[[ 1  2  3  4]\n",
      " [ 5  6  7  8]\n",
      " [ 9 10 11 12]]\n"
     ]
    }
   ],
   "source": [
    "# with reshape\n",
    "\n",
    "print(np.arange(1,11).reshape(2,5))\n",
    "print(np.arange(1,13).reshape(3,4))"
   ]
  },
  {
   "cell_type": "code",
   "execution_count": 24,
   "id": "6d92bfd3-85a2-43f8-9624-560b6c79d4a4",
   "metadata": {},
   "outputs": [
    {
     "name": "stdout",
     "output_type": "stream",
     "text": [
      "[[1. 1. 1. 1.]\n",
      " [1. 1. 1. 1.]\n",
      " [1. 1. 1. 1.]]\n",
      "[[0. 0. 0. 0. 0. 0.]\n",
      " [0. 0. 0. 0. 0. 0.]]\n"
     ]
    }
   ],
   "source": [
    "# np.ones and np.zeros\n",
    "\n",
    "print(np.ones((3,4)))\n",
    "print(np.zeros((2,6)))"
   ]
  },
  {
   "cell_type": "code",
   "execution_count": 27,
   "id": "dea1b6d6-6324-4f5b-ace5-6387539c77a4",
   "metadata": {},
   "outputs": [
    {
     "name": "stdout",
     "output_type": "stream",
     "text": [
      "[[0.27824407 0.5044407  0.01440781 0.33918226]\n",
      " [0.61905101 0.67084691 0.36855314 0.04810827]\n",
      " [0.88793282 0.98616447 0.98360491 0.85708843]]\n"
     ]
    }
   ],
   "source": [
    "# np.random\n",
    "\n",
    "print(np.random.random((3,4)))"
   ]
  },
  {
   "cell_type": "code",
   "execution_count": 29,
   "id": "a9f4258a-12dd-49ed-9b72-a10f09dc0937",
   "metadata": {},
   "outputs": [
    {
     "data": {
      "text/plain": [
       "array([-10.        ,  -7.77777778,  -5.55555556,  -3.33333333,\n",
       "        -1.11111111,   1.11111111,   3.33333333,   5.55555556,\n",
       "         7.77777778,  10.        ])"
      ]
     },
     "execution_count": 29,
     "metadata": {},
     "output_type": "execute_result"
    }
   ],
   "source": [
    "# np.linspace - provides euidistant in given range\n",
    "\n",
    "# (a,b,c)\n",
    "# a = lower range\n",
    "# b = upper range\n",
    "# c = number of item wants to generate\n",
    "\n",
    "np.linspace(-10, 10, 10)\n",
    "\n"
   ]
  },
  {
   "cell_type": "code",
   "execution_count": 30,
   "id": "e4a51a4f-c32c-4c88-b849-fdf5c385abd7",
   "metadata": {},
   "outputs": [
    {
     "data": {
      "text/plain": [
       "array([[1., 0., 0.],\n",
       "       [0., 1., 0.],\n",
       "       [0., 0., 1.]])"
      ]
     },
     "execution_count": 30,
     "metadata": {},
     "output_type": "execute_result"
    }
   ],
   "source": [
    "# np.identity\n",
    "\n",
    "np.identity(3)"
   ]
  },
  {
   "cell_type": "code",
   "execution_count": null,
   "id": "c50bdc25-e170-42cd-96cd-be1a5475dcf8",
   "metadata": {},
   "outputs": [],
   "source": []
  }
 ],
 "metadata": {
  "kernelspec": {
   "display_name": "Python 3 (ipykernel)",
   "language": "python",
   "name": "python3"
  },
  "language_info": {
   "codemirror_mode": {
    "name": "ipython",
    "version": 3
   },
   "file_extension": ".py",
   "mimetype": "text/x-python",
   "name": "python",
   "nbconvert_exporter": "python",
   "pygments_lexer": "ipython3",
   "version": "3.12.7"
  }
 },
 "nbformat": 4,
 "nbformat_minor": 5
}
