{
 "cells": [
  {
   "cell_type": "markdown",
   "id": "dae7a35d-0586-46d6-8674-22c8c7256d65",
   "metadata": {},
   "source": [
    "# NUMPY ARRAY AS PYTHON LISTS"
   ]
  },
  {
   "cell_type": "code",
   "execution_count": 8,
   "id": "33dfcdfa-041e-4efd-afda-1c0189b7df19",
   "metadata": {},
   "outputs": [],
   "source": [
    "import numpy as np"
   ]
  },
  {
   "cell_type": "code",
   "execution_count": 9,
   "id": "d3d0af4c-12d7-41ed-9320-b82af3c4c25d",
   "metadata": {},
   "outputs": [
    {
     "name": "stdout",
     "output_type": "stream",
     "text": [
      "9.210613012313843\n"
     ]
    }
   ],
   "source": [
    "# Speed\n",
    "# List\n",
    "a = [i for i in range(100000000)]\n",
    "b = [i for i in range(100000000, 200000000)]\n",
    "\n",
    "c = []\n",
    "\n",
    "import time\n",
    "start = time.time()\n",
    "for i in range(len(a)):\n",
    "    c.append(a[i] + b[i])\n",
    "print(time.time()-start)"
   ]
  },
  {
   "cell_type": "code",
   "execution_count": 10,
   "id": "ee8b8cca-c845-4e5e-b5d1-1a3fd245c461",
   "metadata": {},
   "outputs": [
    {
     "name": "stdout",
     "output_type": "stream",
     "text": [
      "0.0\n"
     ]
    }
   ],
   "source": [
    "# Numpy\n",
    "import numpy as np\n",
    "a = np.arange(100000000)\n",
    "b = np.arange(100000000, 200000000)\n",
    "\n",
    "c = a + b\n",
    "start = time.time()\n",
    "print(time.time()-start)"
   ]
  },
  {
   "cell_type": "code",
   "execution_count": 11,
   "id": "59c58f36-8cb2-424a-b174-18276245eb74",
   "metadata": {},
   "outputs": [
    {
     "data": {
      "text/plain": [
       "89095160"
      ]
     },
     "execution_count": 11,
     "metadata": {},
     "output_type": "execute_result"
    }
   ],
   "source": [
    "# Memory\n",
    "a = [i for i in range(10000000)]\n",
    "import sys\n",
    "\n",
    "sys.getsizeof(a)"
   ]
  },
  {
   "cell_type": "code",
   "execution_count": 12,
   "id": "7b3de862-3897-4547-b5c1-f5d2847426a9",
   "metadata": {},
   "outputs": [
    {
     "data": {
      "text/plain": [
       "40000112"
      ]
     },
     "execution_count": 12,
     "metadata": {},
     "output_type": "execute_result"
    }
   ],
   "source": [
    "a = np.arange(10000000, dtype = np.int32)\n",
    "sys.getsizeof(a)"
   ]
  },
  {
   "cell_type": "markdown",
   "id": "074a90ee-1916-4b4e-b4e8-85ad6bb3e54a",
   "metadata": {},
   "source": [
    "## Advanced Indexing"
   ]
  },
  {
   "cell_type": "code",
   "execution_count": 21,
   "id": "aa7d65ff-28fb-40ad-91b7-1ef0f23cfc1d",
   "metadata": {},
   "outputs": [
    {
     "data": {
      "text/plain": [
       "array([[ 0,  1,  2],\n",
       "       [ 3,  4,  5],\n",
       "       [ 6,  7,  8],\n",
       "       [ 9, 10, 11]])"
      ]
     },
     "execution_count": 21,
     "metadata": {},
     "output_type": "execute_result"
    }
   ],
   "source": [
    "# Normal Indexing and Slicing\n",
    "a = np.arange(12).reshape(4,3)\n",
    "a"
   ]
  },
  {
   "cell_type": "code",
   "execution_count": 22,
   "id": "a4fad202-02c1-43aa-a920-41077a7572fe",
   "metadata": {},
   "outputs": [
    {
     "data": {
      "text/plain": [
       "5"
      ]
     },
     "execution_count": 22,
     "metadata": {},
     "output_type": "execute_result"
    }
   ],
   "source": [
    "a[1,2]"
   ]
  },
  {
   "cell_type": "code",
   "execution_count": 23,
   "id": "27752652-8025-4b08-9155-e892944fac97",
   "metadata": {},
   "outputs": [
    {
     "data": {
      "text/plain": [
       "array([[4, 5],\n",
       "       [7, 8]])"
      ]
     },
     "execution_count": 23,
     "metadata": {},
     "output_type": "execute_result"
    }
   ],
   "source": [
    "a[1:3, 1:3]"
   ]
  },
  {
   "cell_type": "code",
   "execution_count": 24,
   "id": "d487de4e-b950-47b1-98f0-5230ce9d380b",
   "metadata": {},
   "outputs": [
    {
     "data": {
      "text/plain": [
       "array([[ 0,  1,  2],\n",
       "       [ 3,  4,  5],\n",
       "       [ 6,  7,  8],\n",
       "       [ 9, 10, 11]])"
      ]
     },
     "execution_count": 24,
     "metadata": {},
     "output_type": "execute_result"
    }
   ],
   "source": [
    "# Fancy Indexing\n",
    "a"
   ]
  },
  {
   "cell_type": "code",
   "execution_count": 25,
   "id": "13dec133-f804-4118-b79e-18f20a727321",
   "metadata": {},
   "outputs": [
    {
     "data": {
      "text/plain": [
       "array([[0, 1, 2],\n",
       "       [6, 7, 8]])"
      ]
     },
     "execution_count": 25,
     "metadata": {},
     "output_type": "execute_result"
    }
   ],
   "source": [
    "a[::2]"
   ]
  },
  {
   "cell_type": "code",
   "execution_count": 26,
   "id": "48e303e8-f45d-4a05-a4b5-930700b8f063",
   "metadata": {},
   "outputs": [
    {
     "data": {
      "text/plain": [
       "array([[ 0,  1,  2],\n",
       "       [ 6,  7,  8],\n",
       "       [ 9, 10, 11]])"
      ]
     },
     "execution_count": 26,
     "metadata": {},
     "output_type": "execute_result"
    }
   ],
   "source": [
    "# 1 row, 3 row, 4 row\n",
    "a[[0, 2, 3]]"
   ]
  },
  {
   "cell_type": "code",
   "execution_count": 27,
   "id": "bb827b2f-5ad0-417f-871b-ec3380d47263",
   "metadata": {},
   "outputs": [
    {
     "data": {
      "text/plain": [
       "array([[ 0,  1,  2,  3],\n",
       "       [ 4,  5,  6,  7],\n",
       "       [ 8,  9, 10, 11],\n",
       "       [12, 13, 14, 15],\n",
       "       [16, 17, 18, 19],\n",
       "       [20, 21, 22, 23]])"
      ]
     },
     "execution_count": 27,
     "metadata": {},
     "output_type": "execute_result"
    }
   ],
   "source": [
    "b = np.arange(24).reshape(6,4)\n",
    "b"
   ]
  },
  {
   "cell_type": "code",
   "execution_count": 28,
   "id": "f426dd4b-bfaf-4a15-a6ae-0163c9da7ff2",
   "metadata": {},
   "outputs": [
    {
     "data": {
      "text/plain": [
       "array([[ 0,  1,  2,  3],\n",
       "       [ 8,  9, 10, 11],\n",
       "       [12, 13, 14, 15],\n",
       "       [20, 21, 22, 23]])"
      ]
     },
     "execution_count": 28,
     "metadata": {},
     "output_type": "execute_result"
    }
   ],
   "source": [
    "b[[0, 2, 3, 5]]"
   ]
  },
  {
   "cell_type": "code",
   "execution_count": 29,
   "id": "f8ed9a3c-a39f-47eb-ae8a-4bf63f9fa2b7",
   "metadata": {},
   "outputs": [
    {
     "data": {
      "text/plain": [
       "array([[ 0,  3],\n",
       "       [ 4,  7],\n",
       "       [ 8, 11],\n",
       "       [12, 15],\n",
       "       [16, 19],\n",
       "       [20, 23]])"
      ]
     },
     "execution_count": 29,
     "metadata": {},
     "output_type": "execute_result"
    }
   ],
   "source": [
    "# For Column\n",
    "b[:,[0,3]]"
   ]
  },
  {
   "cell_type": "markdown",
   "id": "2a26083f-fe67-4652-a10a-8b2af7e7c9d0",
   "metadata": {},
   "source": [
    "## Boolean Indexing"
   ]
  },
  {
   "cell_type": "code",
   "execution_count": 30,
   "id": "4e3f1ebb-b218-4437-92ae-433826002eb8",
   "metadata": {},
   "outputs": [
    {
     "data": {
      "text/plain": [
       "array([[56, 78, 55,  6],\n",
       "       [10, 25, 66, 39],\n",
       "       [75, 94, 11, 46],\n",
       "       [93, 26, 21, 11],\n",
       "       [11, 37, 31, 82],\n",
       "       [50, 17,  7, 97]])"
      ]
     },
     "execution_count": 30,
     "metadata": {},
     "output_type": "execute_result"
    }
   ],
   "source": [
    "a = np.random.randint(1,100,24).reshape(6,4)\n",
    "a"
   ]
  },
  {
   "cell_type": "code",
   "execution_count": 31,
   "id": "8927a958-9274-425c-bc87-2924f33a353c",
   "metadata": {},
   "outputs": [
    {
     "name": "stdout",
     "output_type": "stream",
     "text": [
      "[[ True  True  True False]\n",
      " [False False  True False]\n",
      " [ True  True False False]\n",
      " [ True False False False]\n",
      " [False False False  True]\n",
      " [False False False  True]]\n"
     ]
    },
    {
     "data": {
      "text/plain": [
       "array([56, 78, 55, 66, 75, 94, 93, 82, 97])"
      ]
     },
     "execution_count": 31,
     "metadata": {},
     "output_type": "execute_result"
    }
   ],
   "source": [
    "# Find all numbers greater than 50\n",
    "print(a > 50)\n",
    "a[a > 50]"
   ]
  },
  {
   "cell_type": "code",
   "execution_count": 32,
   "id": "d5182c26-26e0-47db-83cf-5d42605f7880",
   "metadata": {},
   "outputs": [
    {
     "data": {
      "text/plain": [
       "array([56, 78,  6, 10, 66, 94, 46, 26, 82, 50])"
      ]
     },
     "execution_count": 32,
     "metadata": {},
     "output_type": "execute_result"
    }
   ],
   "source": [
    "# Find even numbers\n",
    "a[a%2 == 0]"
   ]
  },
  {
   "cell_type": "code",
   "execution_count": 36,
   "id": "7648b909-f2b2-40c0-ba51-3903a037080f",
   "metadata": {},
   "outputs": [
    {
     "data": {
      "text/plain": [
       "array([56, 78, 66, 94, 82])"
      ]
     },
     "execution_count": 36,
     "metadata": {},
     "output_type": "execute_result"
    }
   ],
   "source": [
    "# Find all numbers greater than 50 and even\n",
    "a[(a>50) & (a%2 == 0)]"
   ]
  },
  {
   "cell_type": "code",
   "execution_count": 38,
   "id": "54fc21f8-2bbe-4443-867e-04e0145767b3",
   "metadata": {},
   "outputs": [
    {
     "data": {
      "text/plain": [
       "array([56, 21,  7])"
      ]
     },
     "execution_count": 38,
     "metadata": {},
     "output_type": "execute_result"
    }
   ],
   "source": [
    "# Find all numbers not divisible by 7\n",
    "a[a % 7 == 0]"
   ]
  },
  {
   "cell_type": "markdown",
   "id": "72964c01-5a1a-4372-a956-ee3aafbdd30d",
   "metadata": {},
   "source": [
    "## Broadcasting"
   ]
  },
  {
   "cell_type": "markdown",
   "id": "251952a1-a66e-4ee3-a534-7b169e9e48c6",
   "metadata": {},
   "source": [
    "The term broadcasting describes how NumPy treats arrays with different shapes during arithmetic operations.\n",
    "<br>The smaller array is 'broadccast' across the larger array so that they have comaptible shapes."
   ]
  },
  {
   "cell_type": "markdown",
   "id": "761fde00-2857-42f1-9034-7036aab62acb",
   "metadata": {},
   "source": [
    "# Same Shape\n",
    "a = np.arange(6).reshape(2,3)\n",
    "b = np.arange(6,12).reshape(2,3)\n",
    "\n",
    "print(a)\n",
    "print(b)\n",
    "print(a+b)"
   ]
  },
  {
   "cell_type": "code",
   "execution_count": 50,
   "id": "9b4d41b9-6546-484c-88f5-e270c7a48946",
   "metadata": {},
   "outputs": [
    {
     "name": "stdout",
     "output_type": "stream",
     "text": [
      "[[0 1 2]\n",
      " [3 4 5]]\n",
      "[[0 1 2]]\n",
      "[[0 2 4]\n",
      " [3 5 7]]\n"
     ]
    }
   ],
   "source": [
    "# Diff Shape\n",
    "a = np.arange(6).reshape(2,3)\n",
    "b = np.arange(3).reshape(1,3)\n",
    "\n",
    "print(a)\n",
    "print(b)\n",
    "print(a+b)"
   ]
  },
  {
   "cell_type": "markdown",
   "id": "916384cb-14a4-4957-919d-47c2d9031673",
   "metadata": {},
   "source": [
    "### Broadcasting Rules"
   ]
  },
  {
   "cell_type": "markdown",
   "id": "841437f1-4089-4485-90c1-b18ce5011b9b",
   "metadata": {},
   "source": [
    "#### 1. Make the two arrays have the same number of dimensions.\n",
    "If the numbers of dimensions of the two arrays are different, add new dimensions with size 1 to the head of the array with the smaller dimension."
   ]
  },
  {
   "cell_type": "markdown",
   "id": "c9a217c2-13df-423d-b654-a61402c93abe",
   "metadata": {},
   "source": [
    "#### 2. Make each dimension of the two arrays the same size.\n",
    "\n",
    "If the sizes of each dimension of the two arrays do not match, dimensions with size 1 are stretched to the size of the other array.\n",
    "<br>If there is a dimension whose size is not 1 in either of the two arrays, it cannot be broadcasted, and an error is raised."
   ]
  },
  {
   "cell_type": "code",
   "execution_count": 54,
   "id": "ab009778-2813-47a7-b8fb-4df9f3c5e439",
   "metadata": {},
   "outputs": [
    {
     "name": "stdout",
     "output_type": "stream",
     "text": [
      "[[ 0  1  2]\n",
      " [ 3  4  5]\n",
      " [ 6  7  8]\n",
      " [ 9 10 11]]\n",
      "[0 1 2]\n",
      "[[ 0  2  4]\n",
      " [ 3  5  7]\n",
      " [ 6  8 10]\n",
      " [ 9 11 13]]\n"
     ]
    }
   ],
   "source": [
    "a = np.arange(12).reshape(4,3)\n",
    "b = np.arange(3)\n",
    "\n",
    "print(a)\n",
    "print(b)\n",
    "\n",
    "print(a+b)"
   ]
  },
  {
   "cell_type": "code",
   "execution_count": 58,
   "id": "70af43fe-bad1-457f-84d1-7d93c0765ed7",
   "metadata": {},
   "outputs": [
    {
     "name": "stdout",
     "output_type": "stream",
     "text": [
      "[[ 0  1  2  3]\n",
      " [ 4  5  6  7]\n",
      " [ 8  9 10 11]]\n",
      "[[0]\n",
      " [1]\n",
      " [2]]\n",
      "[[ 0  1  2  3]\n",
      " [ 5  6  7  8]\n",
      " [10 11 12 13]]\n"
     ]
    }
   ],
   "source": [
    "a = np.arange(12).reshape(3,4)\n",
    "b = np.arange(3).reshape(3,1)\n",
    "\n",
    "print(a)\n",
    "print(b)\n",
    "\n",
    "print(a+b)"
   ]
  },
  {
   "cell_type": "code",
   "execution_count": 59,
   "id": "8bfa93c3-5302-456c-a19f-7fa08fc40d9e",
   "metadata": {},
   "outputs": [
    {
     "name": "stdout",
     "output_type": "stream",
     "text": [
      "[[0 1 2]]\n",
      "[[0]\n",
      " [1]\n",
      " [2]\n",
      " [3]]\n",
      "[[0 1 2]\n",
      " [1 2 3]\n",
      " [2 3 4]\n",
      " [3 4 5]]\n"
     ]
    }
   ],
   "source": [
    "a = np.arange(3).reshape(1,3)\n",
    "b = np.arange(4).reshape(4,1)\n",
    "\n",
    "print(a)\n",
    "print(b)\n",
    "\n",
    "print(a+b)"
   ]
  },
  {
   "cell_type": "code",
   "execution_count": 60,
   "id": "672c2ee7-1a05-403f-b956-de2f622e1501",
   "metadata": {},
   "outputs": [
    {
     "name": "stdout",
     "output_type": "stream",
     "text": [
      "[1]\n",
      "[[0 1]\n",
      " [2 3]]\n",
      "[[1 2]\n",
      " [3 4]]\n"
     ]
    }
   ],
   "source": [
    "a = np.array([1])\n",
    "b = np.arange(4).reshape(2,2)\n",
    "\n",
    "print(a)\n",
    "print(b)\n",
    "\n",
    "print(a+b)"
   ]
  },
  {
   "cell_type": "code",
   "execution_count": 62,
   "id": "25ea7a9d-57b0-4ca5-8a97-dca0127c5114",
   "metadata": {},
   "outputs": [
    {
     "name": "stdout",
     "output_type": "stream",
     "text": [
      "[[ 0  1  2  3]\n",
      " [ 4  5  6  7]\n",
      " [ 8  9 10 11]\n",
      " [12 13 14 15]]\n",
      "[[0 1]\n",
      " [2 3]]\n"
     ]
    },
    {
     "ename": "ValueError",
     "evalue": "operands could not be broadcast together with shapes (4,4) (2,2) ",
     "output_type": "error",
     "traceback": [
      "\u001b[1;31m---------------------------------------------------------------------------\u001b[0m",
      "\u001b[1;31mValueError\u001b[0m                                Traceback (most recent call last)",
      "Cell \u001b[1;32mIn[62], line 7\u001b[0m\n\u001b[0;32m      4\u001b[0m \u001b[38;5;28mprint\u001b[39m(a)\n\u001b[0;32m      5\u001b[0m \u001b[38;5;28mprint\u001b[39m(b)\n\u001b[1;32m----> 7\u001b[0m \u001b[38;5;28mprint\u001b[39m(a\u001b[38;5;241m+\u001b[39mb)\n",
      "\u001b[1;31mValueError\u001b[0m: operands could not be broadcast together with shapes (4,4) (2,2) "
     ]
    }
   ],
   "source": [
    "a = np.arange(16).reshape(4,4)\n",
    "b = np.arange(4).reshape(2,2)\n",
    "\n",
    "print(a)\n",
    "print(b)\n",
    "\n",
    "print(a+b)"
   ]
  },
  {
   "cell_type": "code",
   "execution_count": null,
   "id": "8c079e26-c9d8-43d3-b12d-c3d6fd2fac6f",
   "metadata": {},
   "outputs": [],
   "source": []
  }
 ],
 "metadata": {
  "kernelspec": {
   "display_name": "Python 3 (ipykernel)",
   "language": "python",
   "name": "python3"
  },
  "language_info": {
   "codemirror_mode": {
    "name": "ipython",
    "version": 3
   },
   "file_extension": ".py",
   "mimetype": "text/x-python",
   "name": "python",
   "nbconvert_exporter": "python",
   "pygments_lexer": "ipython3",
   "version": "3.12.7"
  }
 },
 "nbformat": 4,
 "nbformat_minor": 5
}
