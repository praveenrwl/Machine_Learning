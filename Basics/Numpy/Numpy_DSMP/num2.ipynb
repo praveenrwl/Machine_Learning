{
 "cells": [
  {
   "cell_type": "markdown",
   "id": "ecbe938f-43e1-42be-b617-f82d4510d82c",
   "metadata": {},
   "source": [
    "## ARRAY ATTRIBUTES"
   ]
  },
  {
   "cell_type": "code",
   "execution_count": 22,
   "id": "b77ca86e-42e6-4219-9cb8-a51d5957da3d",
   "metadata": {},
   "outputs": [],
   "source": [
    "import numpy as np"
   ]
  },
  {
   "cell_type": "code",
   "execution_count": 23,
   "id": "411224bc-0f9a-47f5-92c4-8bfebcd8bbbd",
   "metadata": {},
   "outputs": [
    {
     "name": "stdout",
     "output_type": "stream",
     "text": [
      "1D array \n",
      " [0 1 2 3 4 5 6 7 8 9] \n",
      "\n",
      "2D array \n",
      " [[ 0.  1.  2.  3.]\n",
      " [ 4.  5.  6.  7.]\n",
      " [ 8.  9. 10. 11.]] \n",
      "\n",
      "3D array \n",
      " [[[0 1]\n",
      "  [2 3]]\n",
      "\n",
      " [[4 5]\n",
      "  [6 7]]]\n"
     ]
    }
   ],
   "source": [
    "a1 = np.arange(10)\n",
    "a2 = np.arange(12, dtype = float).reshape(3,4)\n",
    "a3 = np.arange(8).reshape(2,2,2)\n",
    "\n",
    "print(\"1D array \\n\",a1, \"\\n\")\n",
    "print(\"2D array \\n\",a2, \"\\n\")\n",
    "print(\"3D array \\n\",a3)\n"
   ]
  },
  {
   "cell_type": "code",
   "execution_count": 24,
   "id": "e11353e6-f6e9-4a0f-820c-0ef8b5609f3a",
   "metadata": {},
   "outputs": [
    {
     "name": "stdout",
     "output_type": "stream",
     "text": [
      "1\n",
      "2\n",
      "3\n"
     ]
    }
   ],
   "source": [
    "# ndim\n",
    "\n",
    "print(a1.ndim)\n",
    "print(a2.ndim)\n",
    "print(a3.ndim)"
   ]
  },
  {
   "cell_type": "code",
   "execution_count": 25,
   "id": "ffcbe213-1719-45e7-997f-a359fe48bfe9",
   "metadata": {},
   "outputs": [
    {
     "name": "stdout",
     "output_type": "stream",
     "text": [
      "(10,)\n",
      "(3, 4)\n",
      "(2, 2, 2)\n"
     ]
    }
   ],
   "source": [
    "# shape\n",
    "\n",
    "print(a1.shape)\n",
    "print(a2.shape)\n",
    "print(a3.shape)\n"
   ]
  },
  {
   "cell_type": "code",
   "execution_count": 26,
   "id": "1bd0a706-a442-48df-bca8-9179bd5261c2",
   "metadata": {},
   "outputs": [
    {
     "name": "stdout",
     "output_type": "stream",
     "text": [
      "10\n",
      "12\n",
      "8\n"
     ]
    }
   ],
   "source": [
    "# SIZE\n",
    "\n",
    "print(a1.size)\n",
    "print(a2.size)\n",
    "print(a3.size)\n"
   ]
  },
  {
   "cell_type": "code",
   "execution_count": 27,
   "id": "5df624a8-6fd1-430a-b7ac-eee99546ed7e",
   "metadata": {},
   "outputs": [
    {
     "name": "stdout",
     "output_type": "stream",
     "text": [
      "4\n",
      "8\n",
      "4\n"
     ]
    }
   ],
   "source": [
    "# Itemsize\n",
    "\n",
    "print(a1.itemsize)\n",
    "print(a2.itemsize)\n",
    "print(a3.itemsize)"
   ]
  },
  {
   "cell_type": "code",
   "execution_count": 28,
   "id": "ddaea122-59cd-4b08-ace2-7c3cacdd7533",
   "metadata": {},
   "outputs": [
    {
     "name": "stdout",
     "output_type": "stream",
     "text": [
      "int32\n",
      "float64\n",
      "int32\n"
     ]
    }
   ],
   "source": [
    "# DATATYPE\n",
    "\n",
    "print(a1.dtype)\n",
    "print(a2.dtype)\n",
    "print(a3.dtype)"
   ]
  },
  {
   "cell_type": "markdown",
   "id": "09084a4a-627e-4d1d-a99a-9ce73f8eb847",
   "metadata": {},
   "source": [
    "# CHANGING DATATYPE"
   ]
  },
  {
   "cell_type": "code",
   "execution_count": 29,
   "id": "2fdecb86-f86a-44fc-af64-36465901b014",
   "metadata": {},
   "outputs": [
    {
     "name": "stdout",
     "output_type": "stream",
     "text": [
      "int32\n",
      "float64\n",
      "int32\n"
     ]
    }
   ],
   "source": [
    "# astype\n",
    "\n",
    "print(a1.dtype)\n",
    "print(a2.dtype)\n",
    "print(a3.dtype)"
   ]
  },
  {
   "cell_type": "code",
   "execution_count": 30,
   "id": "9596670f-da56-472e-81df-482c82bce6f4",
   "metadata": {},
   "outputs": [
    {
     "data": {
      "text/plain": [
       "array([[ 0,  1,  2,  3],\n",
       "       [ 4,  5,  6,  7],\n",
       "       [ 8,  9, 10, 11]])"
      ]
     },
     "execution_count": 30,
     "metadata": {},
     "output_type": "execute_result"
    }
   ],
   "source": [
    "a2.astype(np.int32)\n"
   ]
  },
  {
   "cell_type": "markdown",
   "id": "bfea4462-b0ce-4bec-8cb5-0fc7592ef45e",
   "metadata": {},
   "source": [
    "# ARRAY OPERATIONS"
   ]
  },
  {
   "cell_type": "code",
   "execution_count": 31,
   "id": "e21f2cd2-6c95-4afd-8732-a80794c012bf",
   "metadata": {},
   "outputs": [
    {
     "name": "stdout",
     "output_type": "stream",
     "text": [
      "[[ 0  1  2  3]\n",
      " [ 4  5  6  7]\n",
      " [ 8  9 10 11]]\n",
      "[[12 13 14 15]\n",
      " [16 17 18 19]\n",
      " [20 21 22 23]]\n"
     ]
    }
   ],
   "source": [
    "b1 = np.arange(12).reshape(3,4)\n",
    "b2 = np.arange(12,24).reshape(3,4)\n",
    "\n",
    "print(b1)\n",
    "print(b2)"
   ]
  },
  {
   "cell_type": "code",
   "execution_count": 32,
   "id": "177e120b-4ec4-466e-8b8f-80e6ccf75d31",
   "metadata": {},
   "outputs": [
    {
     "data": {
      "text/plain": [
       "array([[  0,   1,   4,   9],\n",
       "       [ 16,  25,  36,  49],\n",
       "       [ 64,  81, 100, 121]])"
      ]
     },
     "execution_count": 32,
     "metadata": {},
     "output_type": "execute_result"
    }
   ],
   "source": [
    "# Scaler Operations\n",
    "\n",
    "# Arithmetic Operator\n",
    "\n",
    "b1 ** 2"
   ]
  },
  {
   "cell_type": "code",
   "execution_count": 33,
   "id": "da81b22e-27c0-4179-89cf-f395b0316a83",
   "metadata": {},
   "outputs": [
    {
     "data": {
      "text/plain": [
       "array([[False, False,  True, False],\n",
       "       [False, False, False, False],\n",
       "       [False, False, False, False]])"
      ]
     },
     "execution_count": 33,
     "metadata": {},
     "output_type": "execute_result"
    }
   ],
   "source": [
    "# Relational Operator\n",
    "\n",
    "b1 == 2"
   ]
  },
  {
   "cell_type": "code",
   "execution_count": null,
   "id": "1eedafee-8121-42ea-a49e-92c8ac07006b",
   "metadata": {},
   "outputs": [],
   "source": []
  },
  {
   "cell_type": "code",
   "execution_count": 34,
   "id": "8a4b2c6d-92d4-4eba-ab4f-5b98ed924d14",
   "metadata": {},
   "outputs": [
    {
     "data": {
      "text/plain": [
       "array([[12, 14, 16, 18],\n",
       "       [20, 22, 24, 26],\n",
       "       [28, 30, 32, 34]])"
      ]
     },
     "execution_count": 34,
     "metadata": {},
     "output_type": "execute_result"
    }
   ],
   "source": [
    "# Vector Operations\n",
    "\n",
    "# Arithmetic Operator\n",
    "\n",
    "# As their shape are equal\n",
    "b1 + b2"
   ]
  },
  {
   "cell_type": "code",
   "execution_count": 35,
   "id": "98a876cd-6321-40a2-abe5-3ccf4e37d1e2",
   "metadata": {},
   "outputs": [
    {
     "data": {
      "text/plain": [
       "array([[  0,  13,  28,  45],\n",
       "       [ 64,  85, 108, 133],\n",
       "       [160, 189, 220, 253]])"
      ]
     },
     "execution_count": 35,
     "metadata": {},
     "output_type": "execute_result"
    }
   ],
   "source": [
    "b1*b2"
   ]
  },
  {
   "cell_type": "code",
   "execution_count": null,
   "id": "722b833e-9569-447f-9960-5903b415e6ad",
   "metadata": {},
   "outputs": [],
   "source": []
  },
  {
   "cell_type": "markdown",
   "id": "f53077b7-d383-4ae9-876f-02d75b225e80",
   "metadata": {},
   "source": [
    "# ARRAY FUNCTIONS"
   ]
  },
  {
   "cell_type": "code",
   "execution_count": 36,
   "id": "a82498f9-e7ad-4d9d-bbda-bbc35486476e",
   "metadata": {},
   "outputs": [
    {
     "data": {
      "text/plain": [
       "array([[62., 49., 20.],\n",
       "       [30., 39., 78.],\n",
       "       [44., 52., 52.]])"
      ]
     },
     "execution_count": 36,
     "metadata": {},
     "output_type": "execute_result"
    }
   ],
   "source": [
    "c1 = np.random.random((3, 3))\n",
    "c1 = np.round(c1*100)\n",
    "c1"
   ]
  },
  {
   "cell_type": "code",
   "execution_count": 37,
   "id": "5404586f-300f-4c2a-a390-52de83e42cc9",
   "metadata": {},
   "outputs": [
    {
     "name": "stdout",
     "output_type": "stream",
     "text": [
      "[[62. 49. 20.]\n",
      " [30. 39. 78.]\n",
      " [44. 52. 52.]]\n",
      "78.0\n",
      "20.0\n",
      "426.0\n",
      "659716875417600.0\n"
     ]
    }
   ],
   "source": [
    "# max/min/sum/prod\n",
    "\n",
    "print(c1)\n",
    "print(np.max(c1))\n",
    "print(np.min(c1))\n",
    "print(np.sum(c1))\n",
    "print(np.prod(c1))"
   ]
  },
  {
   "cell_type": "code",
   "execution_count": 38,
   "id": "6877df75-c50b-45dc-b5b8-254a453d1a3e",
   "metadata": {},
   "outputs": [
    {
     "data": {
      "text/plain": [
       "array([81840., 99372., 81120.])"
      ]
     },
     "execution_count": 38,
     "metadata": {},
     "output_type": "execute_result"
    }
   ],
   "source": [
    "# 0 -> col and 1 -> row\n",
    "np.prod(c1, axis = 0)"
   ]
  },
  {
   "cell_type": "code",
   "execution_count": 39,
   "id": "e6bfd9a0-e20f-448a-b5dd-076ff6ec2ed3",
   "metadata": {},
   "outputs": [
    {
     "data": {
      "text/plain": [
       "array([43.66666667, 49.        , 49.33333333])"
      ]
     },
     "execution_count": 39,
     "metadata": {},
     "output_type": "execute_result"
    }
   ],
   "source": [
    "# mean/ median / std/ var\n",
    "np.mean(c1, axis = 1)"
   ]
  },
  {
   "cell_type": "code",
   "execution_count": 40,
   "id": "5c17b838-fc6b-44b9-bb75-6b5b43f7fb87",
   "metadata": {},
   "outputs": [
    {
     "data": {
      "text/plain": [
       "array([[-0.7391807 , -0.95375265,  0.91294525],\n",
       "       [-0.98803162,  0.96379539,  0.51397846],\n",
       "       [ 0.01770193,  0.98662759,  0.98662759]])"
      ]
     },
     "execution_count": 40,
     "metadata": {},
     "output_type": "execute_result"
    }
   ],
   "source": [
    "# Trignometric functions\n",
    "\n",
    "np.sin(c1)"
   ]
  },
  {
   "cell_type": "code",
   "execution_count": 48,
   "id": "132ed785-e805-4459-91d2-0f42486eb5ee",
   "metadata": {},
   "outputs": [
    {
     "name": "stdout",
     "output_type": "stream",
     "text": [
      "[[ 0  1  2  3]\n",
      " [ 4  5  6  7]\n",
      " [ 8  9 10 11]]\n",
      "[[12 13 14]\n",
      " [15 16 17]\n",
      " [18 19 20]\n",
      " [21 22 23]]\n"
     ]
    },
    {
     "data": {
      "text/plain": [
       "array([[114, 120, 126],\n",
       "       [378, 400, 422],\n",
       "       [642, 680, 718]])"
      ]
     },
     "execution_count": 48,
     "metadata": {},
     "output_type": "execute_result"
    }
   ],
   "source": [
    "# Dot Product\n",
    "\n",
    "x = np.arange(12).reshape(3,4)\n",
    "print(x)\n",
    "y = np.arange(12, 24).reshape(4,3)\n",
    "print(y)\n",
    "\n",
    "np.dot(x,y)"
   ]
  },
  {
   "cell_type": "code",
   "execution_count": 49,
   "id": "3bcbfffd-acfb-4f2d-b42d-f2570cb33989",
   "metadata": {},
   "outputs": [
    {
     "data": {
      "text/plain": [
       "array([[1.00000000e+00, 2.71828183e+00, 7.38905610e+00, 2.00855369e+01],\n",
       "       [5.45981500e+01, 1.48413159e+02, 4.03428793e+02, 1.09663316e+03],\n",
       "       [2.98095799e+03, 8.10308393e+03, 2.20264658e+04, 5.98741417e+04]])"
      ]
     },
     "execution_count": 49,
     "metadata": {},
     "output_type": "execute_result"
    }
   ],
   "source": [
    "# log and exponents\n",
    "np.exp(x)"
   ]
  },
  {
   "cell_type": "code",
   "execution_count": 54,
   "id": "1ea18346-15e0-4263-a904-e8f0ccfbb699",
   "metadata": {},
   "outputs": [
    {
     "name": "stdout",
     "output_type": "stream",
     "text": [
      "[[78.  8. 82.]\n",
      " [74.  8. 16.]]\n",
      "[[62. 84. 55.]\n",
      " [28. 89. 53.]]\n",
      "[[21. 44. 24.]\n",
      " [58.  9. 13.]]\n"
     ]
    }
   ],
   "source": [
    "# round/ floor/ ceil\n",
    "\n",
    "print(np.round(np.random.random((2,3))*100))\n",
    "print(np.floor(np.random.random((2,3))*100))\n",
    "print(np.ceil(np.random.random((2,3))*100))"
   ]
  },
  {
   "cell_type": "markdown",
   "id": "f3138ce1-93a2-410d-9f71-d1d7e30bcb0a",
   "metadata": {},
   "source": [
    "# INDEXING and SLICING"
   ]
  },
  {
   "cell_type": "code",
   "execution_count": 55,
   "id": "0a1aff26-f847-4392-811a-a13e5a05610e",
   "metadata": {},
   "outputs": [
    {
     "data": {
      "text/plain": [
       "array([0, 1, 2, 3, 4, 5, 6, 7, 8, 9])"
      ]
     },
     "execution_count": 55,
     "metadata": {},
     "output_type": "execute_result"
    }
   ],
   "source": [
    "a1"
   ]
  },
  {
   "cell_type": "code",
   "execution_count": 56,
   "id": "38c8615f-791f-4630-baf9-8eef334e0eec",
   "metadata": {},
   "outputs": [
    {
     "data": {
      "text/plain": [
       "0"
      ]
     },
     "execution_count": 56,
     "metadata": {},
     "output_type": "execute_result"
    }
   ],
   "source": [
    "a1[0]"
   ]
  },
  {
   "cell_type": "code",
   "execution_count": 57,
   "id": "520b1b12-7e05-4182-b1c0-3d1928821ee8",
   "metadata": {},
   "outputs": [
    {
     "data": {
      "text/plain": [
       "8"
      ]
     },
     "execution_count": 57,
     "metadata": {},
     "output_type": "execute_result"
    }
   ],
   "source": [
    "a1[-2]"
   ]
  },
  {
   "cell_type": "code",
   "execution_count": 58,
   "id": "90b1f96e-1d2d-47cb-90c1-ac1ac46857ca",
   "metadata": {},
   "outputs": [
    {
     "data": {
      "text/plain": [
       "array([[ 0.,  1.,  2.,  3.],\n",
       "       [ 4.,  5.,  6.,  7.],\n",
       "       [ 8.,  9., 10., 11.]])"
      ]
     },
     "execution_count": 58,
     "metadata": {},
     "output_type": "execute_result"
    }
   ],
   "source": [
    "a2"
   ]
  },
  {
   "cell_type": "code",
   "execution_count": 59,
   "id": "745335d7-ccb8-4719-8362-43105aaab59e",
   "metadata": {},
   "outputs": [
    {
     "data": {
      "text/plain": [
       "6.0"
      ]
     },
     "execution_count": 59,
     "metadata": {},
     "output_type": "execute_result"
    }
   ],
   "source": [
    "# Variable[row_number, col_number]\n",
    "\n",
    "a2[1,2]"
   ]
  },
  {
   "cell_type": "code",
   "execution_count": 60,
   "id": "5ffdb124-8e7a-4d11-87a7-eb82f2cb26cc",
   "metadata": {},
   "outputs": [
    {
     "data": {
      "text/plain": [
       "11.0"
      ]
     },
     "execution_count": 60,
     "metadata": {},
     "output_type": "execute_result"
    }
   ],
   "source": [
    "# Variable[row_number, col_number]\n",
    "\n",
    "a2[2,3]"
   ]
  },
  {
   "cell_type": "code",
   "execution_count": 61,
   "id": "f4692464-e8be-4a94-90f2-f721105eb347",
   "metadata": {},
   "outputs": [
    {
     "data": {
      "text/plain": [
       "array([[[0, 1],\n",
       "        [2, 3]],\n",
       "\n",
       "       [[4, 5],\n",
       "        [6, 7]]])"
      ]
     },
     "execution_count": 61,
     "metadata": {},
     "output_type": "execute_result"
    }
   ],
   "source": [
    "a3"
   ]
  },
  {
   "cell_type": "code",
   "execution_count": 62,
   "id": "8fd8fd4c-36a4-4f72-ae58-44f57cfbdb2e",
   "metadata": {},
   "outputs": [
    {
     "data": {
      "text/plain": [
       "5"
      ]
     },
     "execution_count": 62,
     "metadata": {},
     "output_type": "execute_result"
    }
   ],
   "source": [
    "# Variable[matrix, row_number, col_number]\n",
    "\n",
    "# 5\n",
    "a3[1, 0, 1]"
   ]
  },
  {
   "cell_type": "code",
   "execution_count": 63,
   "id": "53861abb-d0d3-4113-a3a3-431e5bc95055",
   "metadata": {},
   "outputs": [
    {
     "data": {
      "text/plain": [
       "2"
      ]
     },
     "execution_count": 63,
     "metadata": {},
     "output_type": "execute_result"
    }
   ],
   "source": [
    "# Variable[matrix, row_number, col_number]\n",
    "\n",
    "# 5\n",
    "a3[0, 1, 0]"
   ]
  },
  {
   "cell_type": "code",
   "execution_count": 64,
   "id": "c0623a50-2149-408a-9f93-a1a82fc7d7f5",
   "metadata": {},
   "outputs": [
    {
     "data": {
      "text/plain": [
       "array([0, 1, 2, 3, 4, 5, 6, 7, 8, 9])"
      ]
     },
     "execution_count": 64,
     "metadata": {},
     "output_type": "execute_result"
    }
   ],
   "source": [
    "# SLICING\n",
    "\n",
    "a1"
   ]
  },
  {
   "cell_type": "code",
   "execution_count": 66,
   "id": "c5c85aa1-dee5-47a1-bb07-ffa9a4fcaf6a",
   "metadata": {},
   "outputs": [
    {
     "name": "stdout",
     "output_type": "stream",
     "text": [
      "[2 3 4]\n",
      "[2 4]\n"
     ]
    }
   ],
   "source": [
    "# 2 3 4 \n",
    "print(a1[2:5])\n",
    "print(a1[2:5:2])"
   ]
  },
  {
   "cell_type": "code",
   "execution_count": 67,
   "id": "e41d420e-2746-41e5-9080-e0b8935ae798",
   "metadata": {},
   "outputs": [
    {
     "data": {
      "text/plain": [
       "array([[ 0.,  1.,  2.,  3.],\n",
       "       [ 4.,  5.,  6.,  7.],\n",
       "       [ 8.,  9., 10., 11.]])"
      ]
     },
     "execution_count": 67,
     "metadata": {},
     "output_type": "execute_result"
    }
   ],
   "source": [
    "a2"
   ]
  },
  {
   "cell_type": "code",
   "execution_count": 69,
   "id": "05d8cc78-68cf-4717-8003-b4a22abbb0a8",
   "metadata": {},
   "outputs": [
    {
     "data": {
      "text/plain": [
       "array([0., 1., 2., 3.])"
      ]
     },
     "execution_count": 69,
     "metadata": {},
     "output_type": "execute_result"
    }
   ],
   "source": [
    "# Only 1st Row\n",
    "a2[0, :]"
   ]
  },
  {
   "cell_type": "code",
   "execution_count": 70,
   "id": "b1b16a22-affa-4720-8b72-6eefcf06791e",
   "metadata": {},
   "outputs": [
    {
     "data": {
      "text/plain": [
       "array([ 2.,  6., 10.])"
      ]
     },
     "execution_count": 70,
     "metadata": {},
     "output_type": "execute_result"
    }
   ],
   "source": [
    "# Only Column\n",
    "a2[:, 2]"
   ]
  },
  {
   "cell_type": "code",
   "execution_count": 71,
   "id": "83b31e1d-c882-44a3-9505-36a62fcd882e",
   "metadata": {},
   "outputs": [
    {
     "data": {
      "text/plain": [
       "array([[ 5.,  6.],\n",
       "       [ 9., 10.]])"
      ]
     },
     "execution_count": 71,
     "metadata": {},
     "output_type": "execute_result"
    }
   ],
   "source": [
    "a2[1:,1:3]"
   ]
  },
  {
   "cell_type": "code",
   "execution_count": 72,
   "id": "b441542a-715d-4379-92df-9b180b06221f",
   "metadata": {},
   "outputs": [
    {
     "data": {
      "text/plain": [
       "array([[ 0.,  3.],\n",
       "       [ 8., 11.]])"
      ]
     },
     "execution_count": 72,
     "metadata": {},
     "output_type": "execute_result"
    }
   ],
   "source": [
    "#   alternate row_number , alternate col_number       \n",
    "# Variable[::2, ::3 ]\n",
    "\n",
    "a2[::2,::3]"
   ]
  },
  {
   "cell_type": "code",
   "execution_count": 82,
   "id": "ce7e16ac-293d-42a2-9ee9-a187c30df197",
   "metadata": {},
   "outputs": [
    {
     "data": {
      "text/plain": [
       "array([[ 1.,  3.],\n",
       "       [ 9., 11.]])"
      ]
     },
     "execution_count": 82,
     "metadata": {},
     "output_type": "execute_result"
    }
   ],
   "source": [
    "a2[::2, 1::2]"
   ]
  },
  {
   "cell_type": "code",
   "execution_count": 86,
   "id": "4a0f9051-d566-4cd9-a7ca-af57fb7c856f",
   "metadata": {},
   "outputs": [
    {
     "data": {
      "text/plain": [
       "array([4., 7.])"
      ]
     },
     "execution_count": 86,
     "metadata": {},
     "output_type": "execute_result"
    }
   ],
   "source": [
    "a2[1, ::3]"
   ]
  },
  {
   "cell_type": "code",
   "execution_count": 90,
   "id": "1dc2213b-0f46-4dc8-a527-667018647408",
   "metadata": {},
   "outputs": [
    {
     "data": {
      "text/plain": [
       "array([[1., 2., 3.],\n",
       "       [5., 6., 7.]])"
      ]
     },
     "execution_count": 90,
     "metadata": {},
     "output_type": "execute_result"
    }
   ],
   "source": [
    "# Variable[row_number_include:row_number_exclude, Col_number_include:Col_number_exclude]\n",
    "\n",
    "a2[:2, 1:4]"
   ]
  },
  {
   "cell_type": "code",
   "execution_count": 92,
   "id": "a4ae62ae-0e54-435f-a7a1-cadf0e4d0aa4",
   "metadata": {},
   "outputs": [
    {
     "data": {
      "text/plain": [
       "array([[1., 3.],\n",
       "       [5., 7.]])"
      ]
     },
     "execution_count": 92,
     "metadata": {},
     "output_type": "execute_result"
    }
   ],
   "source": [
    "# Variable[row_number_include:row_number_exclude, Col_number_include:Col_number_exclude]\n",
    "\n",
    "a2[:2, 1::2]"
   ]
  },
  {
   "cell_type": "code",
   "execution_count": 95,
   "id": "c670c17a-8905-42db-b240-6db50481023b",
   "metadata": {},
   "outputs": [
    {
     "data": {
      "text/plain": [
       "array([[[ 0,  1,  2],\n",
       "        [ 3,  4,  5],\n",
       "        [ 6,  7,  8]],\n",
       "\n",
       "       [[ 9, 10, 11],\n",
       "        [12, 13, 14],\n",
       "        [15, 16, 17]],\n",
       "\n",
       "       [[18, 19, 20],\n",
       "        [21, 22, 23],\n",
       "        [24, 25, 26]]])"
      ]
     },
     "execution_count": 95,
     "metadata": {},
     "output_type": "execute_result"
    }
   ],
   "source": [
    "a3 = np.arange(27).reshape(3,3,3)\n",
    "a3"
   ]
  },
  {
   "cell_type": "code",
   "execution_count": 97,
   "id": "b0b32f78-b672-42de-b15f-510fa60ed9a3",
   "metadata": {},
   "outputs": [
    {
     "data": {
      "text/plain": [
       "array([[ 9, 10, 11],\n",
       "       [12, 13, 14],\n",
       "       [15, 16, 17]])"
      ]
     },
     "execution_count": 97,
     "metadata": {},
     "output_type": "execute_result"
    }
   ],
   "source": [
    "# Variable[matrix, row_number, col_number]\n",
    "a3[1]"
   ]
  },
  {
   "cell_type": "code",
   "execution_count": 98,
   "id": "42b1a7d6-7bd2-4300-80a0-5f291558b384",
   "metadata": {},
   "outputs": [
    {
     "data": {
      "text/plain": [
       "array([[[ 0,  1,  2],\n",
       "        [ 3,  4,  5],\n",
       "        [ 6,  7,  8]],\n",
       "\n",
       "       [[18, 19, 20],\n",
       "        [21, 22, 23],\n",
       "        [24, 25, 26]]])"
      ]
     },
     "execution_count": 98,
     "metadata": {},
     "output_type": "execute_result"
    }
   ],
   "source": [
    "a3[::2]"
   ]
  },
  {
   "cell_type": "code",
   "execution_count": 101,
   "id": "f16ffcd1-e793-4e63-88fe-70b8e5acc0e7",
   "metadata": {},
   "outputs": [
    {
     "data": {
      "text/plain": [
       "array([3, 4, 5])"
      ]
     },
     "execution_count": 101,
     "metadata": {},
     "output_type": "execute_result"
    }
   ],
   "source": [
    "# a3[0, 1, :]\n",
    "a3[0,1,:]"
   ]
  },
  {
   "cell_type": "code",
   "execution_count": 102,
   "id": "13ab5993-87ce-4178-ba70-32cc7b4d2a5b",
   "metadata": {},
   "outputs": [
    {
     "data": {
      "text/plain": [
       "array([10, 13, 16])"
      ]
     },
     "execution_count": 102,
     "metadata": {},
     "output_type": "execute_result"
    }
   ],
   "source": [
    "a3[1, :, 1]"
   ]
  },
  {
   "cell_type": "code",
   "execution_count": 104,
   "id": "5119bd22-51b8-49b3-8472-89800c853611",
   "metadata": {},
   "outputs": [
    {
     "data": {
      "text/plain": [
       "array([[22, 23],\n",
       "       [25, 26]])"
      ]
     },
     "execution_count": 104,
     "metadata": {},
     "output_type": "execute_result"
    }
   ],
   "source": [
    "a3[2, 1:, 1:]"
   ]
  },
  {
   "cell_type": "code",
   "execution_count": 110,
   "id": "2304712e-8673-43e7-a73b-f6a497b09313",
   "metadata": {},
   "outputs": [
    {
     "data": {
      "text/plain": [
       "array([[ 0,  2],\n",
       "       [18, 20]])"
      ]
     },
     "execution_count": 110,
     "metadata": {},
     "output_type": "execute_result"
    }
   ],
   "source": [
    "a3[::2,0,::2]"
   ]
  },
  {
   "cell_type": "code",
   "execution_count": null,
   "id": "a762a9a7-907c-413c-870a-f69981c7e11f",
   "metadata": {},
   "outputs": [],
   "source": []
  }
 ],
 "metadata": {
  "kernelspec": {
   "display_name": "Python 3 (ipykernel)",
   "language": "python",
   "name": "python3"
  },
  "language_info": {
   "codemirror_mode": {
    "name": "ipython",
    "version": 3
   },
   "file_extension": ".py",
   "mimetype": "text/x-python",
   "name": "python",
   "nbconvert_exporter": "python",
   "pygments_lexer": "ipython3",
   "version": "3.12.7"
  }
 },
 "nbformat": 4,
 "nbformat_minor": 5
}
