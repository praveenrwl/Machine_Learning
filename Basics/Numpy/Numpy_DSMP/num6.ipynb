{
 "cells": [
  {
   "cell_type": "markdown",
   "id": "ddb44f3b-a9c4-4dbf-9da4-be98c4cef818",
   "metadata": {},
   "source": [
    "# Numpy Tricks"
   ]
  },
  {
   "cell_type": "code",
   "execution_count": 3,
   "id": "aa3d74ef-d397-4b11-bd58-c37061c2a1d0",
   "metadata": {},
   "outputs": [],
   "source": [
    "import numpy as np"
   ]
  },
  {
   "cell_type": "markdown",
   "id": "bc9f27a9-b339-4a58-8100-046e39ca2068",
   "metadata": {},
   "source": [
    "### 1. np.sort\n",
    "\n",
    "Return a sorted copy of an array.\n",
    "\n",
    "https://numpy.org/doc/stable/reference/generated/numpy.sort.html"
   ]
  },
  {
   "cell_type": "code",
   "execution_count": 4,
   "id": "0c7841d0-2c59-4ed0-84b6-24d9b68d2ec2",
   "metadata": {},
   "outputs": [
    {
     "data": {
      "text/plain": [
       "array([32, 42, 46,  2, 51, 11, 68, 91, 55, 91, 28, 71, 70, 97, 82])"
      ]
     },
     "execution_count": 4,
     "metadata": {},
     "output_type": "execute_result"
    }
   ],
   "source": [
    "a = np.random.randint(1,100,15)\n",
    "a"
   ]
  },
  {
   "cell_type": "code",
   "execution_count": 5,
   "id": "9b3a60c1-2273-4ab7-be1f-6807e44d7f05",
   "metadata": {},
   "outputs": [
    {
     "data": {
      "text/plain": [
       "array([ 2, 11, 28, 32, 42, 46, 51, 55, 68, 70, 71, 82, 91, 91, 97])"
      ]
     },
     "execution_count": 5,
     "metadata": {},
     "output_type": "execute_result"
    }
   ],
   "source": [
    "np.sort(a)"
   ]
  },
  {
   "cell_type": "code",
   "execution_count": 6,
   "id": "ce656833-ac6f-4196-8bae-782651e8c2e1",
   "metadata": {},
   "outputs": [
    {
     "data": {
      "text/plain": [
       "array([97, 91, 91, 82, 71, 70, 68, 55, 51, 46, 42, 32, 28, 11,  2])"
      ]
     },
     "execution_count": 6,
     "metadata": {},
     "output_type": "execute_result"
    }
   ],
   "source": [
    "np.sort(a)[::-1]"
   ]
  },
  {
   "cell_type": "code",
   "execution_count": 7,
   "id": "53a767bc-feb0-43fa-9057-b271bb415bc0",
   "metadata": {},
   "outputs": [
    {
     "data": {
      "text/plain": [
       "array([[35, 95, 82, 26],\n",
       "       [ 7, 27, 93, 72],\n",
       "       [77, 86, 14, 85],\n",
       "       [12, 89, 27, 13],\n",
       "       [15, 81, 82, 20],\n",
       "       [27, 11, 97, 19]])"
      ]
     },
     "execution_count": 7,
     "metadata": {},
     "output_type": "execute_result"
    }
   ],
   "source": [
    "b = np.random.randint(1,100,24).reshape(6,4)\n",
    "b"
   ]
  },
  {
   "cell_type": "code",
   "execution_count": 8,
   "id": "a8a335fa-be4c-4dff-a4f4-3bca5181980f",
   "metadata": {},
   "outputs": [
    {
     "data": {
      "text/plain": [
       "array([[26, 35, 82, 95],\n",
       "       [ 7, 27, 72, 93],\n",
       "       [14, 77, 85, 86],\n",
       "       [12, 13, 27, 89],\n",
       "       [15, 20, 81, 82],\n",
       "       [11, 19, 27, 97]])"
      ]
     },
     "execution_count": 8,
     "metadata": {},
     "output_type": "execute_result"
    }
   ],
   "source": [
    "np.sort(b)"
   ]
  },
  {
   "cell_type": "markdown",
   "id": "1d4e5f33-d0b8-4bf4-bee4-c583bed9efc3",
   "metadata": {},
   "source": [
    "### 2. np.append\n",
    "\n",
    "The numpy.append() appends values along the mentioned axis at the end of the array\n",
    "\n",
    "https://numpy.org/doc/stable/reference/generated/numpy.append.html"
   ]
  },
  {
   "cell_type": "code",
   "execution_count": 9,
   "id": "1cfd535a-3adb-4c22-bc9b-5fdf0c88dba0",
   "metadata": {},
   "outputs": [
    {
     "data": {
      "text/plain": [
       "array([32, 42, 46,  2, 51, 11, 68, 91, 55, 91, 28, 71, 70, 97, 82])"
      ]
     },
     "execution_count": 9,
     "metadata": {},
     "output_type": "execute_result"
    }
   ],
   "source": [
    "a"
   ]
  },
  {
   "cell_type": "code",
   "execution_count": 10,
   "id": "ada14095-e60e-4299-ad9b-8c680da42072",
   "metadata": {},
   "outputs": [
    {
     "data": {
      "text/plain": [
       "array([32, 42, 46,  2, 51, 11, 68, 91, 55, 91, 28, 71, 70, 97, 82, 70])"
      ]
     },
     "execution_count": 10,
     "metadata": {},
     "output_type": "execute_result"
    }
   ],
   "source": [
    "np.append(a, 70 )"
   ]
  },
  {
   "cell_type": "code",
   "execution_count": 11,
   "id": "4e222a33-08c9-4ece-8467-66e208299474",
   "metadata": {},
   "outputs": [
    {
     "data": {
      "text/plain": [
       "array([[35, 95, 82, 26],\n",
       "       [ 7, 27, 93, 72],\n",
       "       [77, 86, 14, 85],\n",
       "       [12, 89, 27, 13],\n",
       "       [15, 81, 82, 20],\n",
       "       [27, 11, 97, 19]])"
      ]
     },
     "execution_count": 11,
     "metadata": {},
     "output_type": "execute_result"
    }
   ],
   "source": [
    "b"
   ]
  },
  {
   "cell_type": "code",
   "execution_count": 12,
   "id": "889d003a-01d0-4346-ab4b-1538eaa6b225",
   "metadata": {},
   "outputs": [
    {
     "data": {
      "text/plain": [
       "array([[35., 95., 82., 26.,  1.],\n",
       "       [ 7., 27., 93., 72.,  1.],\n",
       "       [77., 86., 14., 85.,  1.],\n",
       "       [12., 89., 27., 13.,  1.],\n",
       "       [15., 81., 82., 20.,  1.],\n",
       "       [27., 11., 97., 19.,  1.]])"
      ]
     },
     "execution_count": 12,
     "metadata": {},
     "output_type": "execute_result"
    }
   ],
   "source": [
    "np.append(b, np.ones((b.shape[0],1)), axis = 1)    # axis = 0 is for columns"
   ]
  },
  {
   "cell_type": "markdown",
   "id": "a770cf21-fb8e-4d46-83be-968efec154e4",
   "metadata": {},
   "source": [
    "### 3. np.concatenate\n",
    "\n",
    "numpy.concatenate() function concatenate a sequence of arrays along an existing axis.\n",
    "\n",
    "https://numpy.org/doc/stable/reference/generated/numpy.concatenate.html"
   ]
  },
  {
   "cell_type": "code",
   "execution_count": 13,
   "id": "66271ffe-d2e8-4b75-8a76-3003aab41a61",
   "metadata": {},
   "outputs": [
    {
     "name": "stdout",
     "output_type": "stream",
     "text": [
      "[[0 1 2]\n",
      " [3 4 5]]\n",
      "[[ 6  7  8]\n",
      " [ 9 10 11]]\n"
     ]
    }
   ],
   "source": [
    "c = np.arange(6).reshape(2,3)\n",
    "d = np.arange(6, 12).reshape(2,3)\n",
    "\n",
    "print(c)\n",
    "print(d)"
   ]
  },
  {
   "cell_type": "code",
   "execution_count": 14,
   "id": "24c0de3a-0999-41da-a403-cb5da8171c09",
   "metadata": {},
   "outputs": [
    {
     "data": {
      "text/plain": [
       "array([[ 0,  1,  2],\n",
       "       [ 3,  4,  5],\n",
       "       [ 6,  7,  8],\n",
       "       [ 9, 10, 11]])"
      ]
     },
     "execution_count": 14,
     "metadata": {},
     "output_type": "execute_result"
    }
   ],
   "source": [
    "np.concatenate((c,d), axis=0)  # axis = 0 is for rows"
   ]
  },
  {
   "cell_type": "markdown",
   "id": "fcffb2ff-3c72-4866-88af-99aa3bcedb22",
   "metadata": {},
   "source": [
    "### 4. np.unique\n",
    "\n",
    "With the help of np.unique() method, we can get the unique values from an array given as parameter in np.unique() method.\n",
    "\n",
    "https://numpy.org/doc/stable/reference/generated/numpy.unique.html/"
   ]
  },
  {
   "cell_type": "code",
   "execution_count": 15,
   "id": "7442dda2-3ff6-453d-b318-2fdaac90fddb",
   "metadata": {},
   "outputs": [],
   "source": [
    "e = np.array([1,1,2,2,3,3,4,5,6,7,4,3])"
   ]
  },
  {
   "cell_type": "code",
   "execution_count": 16,
   "id": "a6bbae65-4900-4cbb-8cbd-8037ea930860",
   "metadata": {},
   "outputs": [
    {
     "data": {
      "text/plain": [
       "array([1, 2, 3, 4, 5, 6, 7])"
      ]
     },
     "execution_count": 16,
     "metadata": {},
     "output_type": "execute_result"
    }
   ],
   "source": [
    "np.unique(e)"
   ]
  },
  {
   "cell_type": "markdown",
   "id": "7d6f6b19-9fee-42b4-b0b8-7b718ff30452",
   "metadata": {},
   "source": [
    "### 5. np.expand_dims\n",
    "\n",
    "With the help of Numpy.expand_dims() method, we can get the expanded dimensions of an array\n",
    "\n",
    "https://numpy.org/doc/stable/reference/generated/numpy.expand_dims.html"
   ]
  },
  {
   "cell_type": "code",
   "execution_count": 17,
   "id": "a2b0fa27-eefd-4157-88e4-4b81f92df8b1",
   "metadata": {},
   "outputs": [
    {
     "data": {
      "text/plain": [
       "array([32, 42, 46,  2, 51, 11, 68, 91, 55, 91, 28, 71, 70, 97, 82])"
      ]
     },
     "execution_count": 17,
     "metadata": {},
     "output_type": "execute_result"
    }
   ],
   "source": [
    "a"
   ]
  },
  {
   "cell_type": "code",
   "execution_count": 18,
   "id": "8ac2bd1d-0375-4d2c-ac12-4a3a69b59fb1",
   "metadata": {},
   "outputs": [
    {
     "data": {
      "text/plain": [
       "(15,)"
      ]
     },
     "execution_count": 18,
     "metadata": {},
     "output_type": "execute_result"
    }
   ],
   "source": [
    "a.shape"
   ]
  },
  {
   "cell_type": "code",
   "execution_count": 19,
   "id": "bdb94ca6-c01e-48a9-8420-0a167e571046",
   "metadata": {},
   "outputs": [
    {
     "data": {
      "text/plain": [
       "array([[32, 42, 46,  2, 51, 11, 68, 91, 55, 91, 28, 71, 70, 97, 82]])"
      ]
     },
     "execution_count": 19,
     "metadata": {},
     "output_type": "execute_result"
    }
   ],
   "source": [
    "np.expand_dims(a, axis=0)"
   ]
  },
  {
   "cell_type": "code",
   "execution_count": 20,
   "id": "dac4ff1f-3418-432a-bbb1-99a19a39d5af",
   "metadata": {},
   "outputs": [
    {
     "data": {
      "text/plain": [
       "(1, 15)"
      ]
     },
     "execution_count": 20,
     "metadata": {},
     "output_type": "execute_result"
    }
   ],
   "source": [
    "np.expand_dims(a, axis=0).shape"
   ]
  },
  {
   "cell_type": "code",
   "execution_count": 21,
   "id": "4825fffa-7109-461e-adcb-84cd34e06b28",
   "metadata": {},
   "outputs": [
    {
     "data": {
      "text/plain": [
       "(15, 1)"
      ]
     },
     "execution_count": 21,
     "metadata": {},
     "output_type": "execute_result"
    }
   ],
   "source": [
    "np.expand_dims(a, axis=1).shape"
   ]
  },
  {
   "cell_type": "markdown",
   "id": "e540249c-720f-4be0-a45c-b0f773c07262",
   "metadata": {},
   "source": [
    "### 6. np.where\n",
    "\n",
    "The numpy.where() function returns the indices of elements in an input array where the given condition is satisfied.\n",
    "\n",
    "https://numpy.org/doc/stable/reference/generated/numpy.where.html"
   ]
  },
  {
   "cell_type": "code",
   "execution_count": 22,
   "id": "11b987fd-05f5-4c96-8237-c12a4ab127ff",
   "metadata": {},
   "outputs": [
    {
     "data": {
      "text/plain": [
       "array([32, 42, 46,  2, 51, 11, 68, 91, 55, 91, 28, 71, 70, 97, 82])"
      ]
     },
     "execution_count": 22,
     "metadata": {},
     "output_type": "execute_result"
    }
   ],
   "source": [
    "a"
   ]
  },
  {
   "cell_type": "code",
   "execution_count": 23,
   "id": "cb894914-3aa0-4de9-8775-7964a6559cab",
   "metadata": {},
   "outputs": [
    {
     "data": {
      "text/plain": [
       "(array([ 4,  6,  7,  8,  9, 11, 12, 13, 14], dtype=int64),)"
      ]
     },
     "execution_count": 23,
     "metadata": {},
     "output_type": "execute_result"
    }
   ],
   "source": [
    "# Find all indices with value greater than 50\n",
    "np.where(a>50)"
   ]
  },
  {
   "cell_type": "code",
   "execution_count": 24,
   "id": "36f5372b-82fa-4c85-a964-e13ab97d75b2",
   "metadata": {},
   "outputs": [
    {
     "data": {
      "text/plain": [
       "array([32, 42, 46,  2,  0, 11,  0,  0,  0,  0, 28,  0,  0,  0,  0])"
      ]
     },
     "execution_count": 24,
     "metadata": {},
     "output_type": "execute_result"
    }
   ],
   "source": [
    "# Replace all vaues  > 50 with 0\n",
    "np.where(a>50, 0, a)"
   ]
  },
  {
   "cell_type": "code",
   "execution_count": 25,
   "id": "bc1c72fe-5408-40c2-bf09-e6f14f3f442a",
   "metadata": {},
   "outputs": [
    {
     "data": {
      "text/plain": [
       "array([ 0,  0,  0,  0, 51, 11,  0, 91, 55, 91,  0, 71,  0, 97,  0])"
      ]
     },
     "execution_count": 25,
     "metadata": {},
     "output_type": "execute_result"
    }
   ],
   "source": [
    "np.where(a%2 == 0,0,a)"
   ]
  },
  {
   "cell_type": "markdown",
   "id": "cea63f52-15de-4c33-818e-77821bfed4e6",
   "metadata": {},
   "source": [
    "### 7. np.argmax\n",
    "\n",
    "The numpy.argmax() function returns indices of the max element of the array in a particular axis.\n",
    "\n",
    "https://numpy.org/doc/stable/reference/generated/numpy.argmax.html"
   ]
  },
  {
   "cell_type": "code",
   "execution_count": 26,
   "id": "2db3f717-c78e-48e6-8564-d7ef243f1c62",
   "metadata": {},
   "outputs": [
    {
     "data": {
      "text/plain": [
       "array([32, 42, 46,  2, 51, 11, 68, 91, 55, 91, 28, 71, 70, 97, 82])"
      ]
     },
     "execution_count": 26,
     "metadata": {},
     "output_type": "execute_result"
    }
   ],
   "source": [
    "a"
   ]
  },
  {
   "cell_type": "code",
   "execution_count": 27,
   "id": "4e7ce827-5598-4248-8493-f844896c15bd",
   "metadata": {},
   "outputs": [
    {
     "data": {
      "text/plain": [
       "13"
      ]
     },
     "execution_count": 27,
     "metadata": {},
     "output_type": "execute_result"
    }
   ],
   "source": [
    "np.argmax(a)"
   ]
  },
  {
   "cell_type": "code",
   "execution_count": 28,
   "id": "1ab688ed-b4dd-485c-a97b-da0c134ab75c",
   "metadata": {},
   "outputs": [
    {
     "data": {
      "text/plain": [
       "array([[35, 95, 82, 26],\n",
       "       [ 7, 27, 93, 72],\n",
       "       [77, 86, 14, 85],\n",
       "       [12, 89, 27, 13],\n",
       "       [15, 81, 82, 20],\n",
       "       [27, 11, 97, 19]])"
      ]
     },
     "execution_count": 28,
     "metadata": {},
     "output_type": "execute_result"
    }
   ],
   "source": [
    "b"
   ]
  },
  {
   "cell_type": "code",
   "execution_count": 29,
   "id": "5ea56128-c350-489e-8dce-b18f5aa8aacf",
   "metadata": {},
   "outputs": [
    {
     "data": {
      "text/plain": [
       "array([2, 0, 5, 2], dtype=int64)"
      ]
     },
     "execution_count": 29,
     "metadata": {},
     "output_type": "execute_result"
    }
   ],
   "source": [
    "np.argmax(b, axis=0)"
   ]
  },
  {
   "cell_type": "code",
   "execution_count": 30,
   "id": "e38bc225-fd89-46e9-92e3-4b4f3ebf2378",
   "metadata": {},
   "outputs": [
    {
     "data": {
      "text/plain": [
       "array([1, 2, 1, 1, 2, 2], dtype=int64)"
      ]
     },
     "execution_count": 30,
     "metadata": {},
     "output_type": "execute_result"
    }
   ],
   "source": [
    "np.argmax(b, axis=1)"
   ]
  },
  {
   "cell_type": "code",
   "execution_count": 31,
   "id": "d4e47de8-d017-4597-9e8e-73c7db599728",
   "metadata": {},
   "outputs": [
    {
     "data": {
      "text/plain": [
       "3"
      ]
     },
     "execution_count": 31,
     "metadata": {},
     "output_type": "execute_result"
    }
   ],
   "source": [
    "np.argmin(a)"
   ]
  },
  {
   "cell_type": "markdown",
   "id": "7c371203-6b69-45c0-9f82-727287306783",
   "metadata": {},
   "source": [
    "### 8. np.cumsum\n",
    "\n",
    "numpy.cumsum() function is used when we want to compute the cumulative sum of array elements over a given axis.\n",
    "\n",
    "https://numpy.org/doc/stable/reference/generated/numpy.cumsum.html"
   ]
  },
  {
   "cell_type": "code",
   "execution_count": 32,
   "id": "7726efb9-0478-43c8-9cd2-41ebd071cf8b",
   "metadata": {},
   "outputs": [
    {
     "data": {
      "text/plain": [
       "array([32, 42, 46,  2, 51, 11, 68, 91, 55, 91, 28, 71, 70, 97, 82])"
      ]
     },
     "execution_count": 32,
     "metadata": {},
     "output_type": "execute_result"
    }
   ],
   "source": [
    "a"
   ]
  },
  {
   "cell_type": "code",
   "execution_count": 33,
   "id": "3702690a-93da-4c80-a3ca-58997779f6f7",
   "metadata": {},
   "outputs": [
    {
     "data": {
      "text/plain": [
       "array([ 32,  74, 120, 122, 173, 184, 252, 343, 398, 489, 517, 588, 658,\n",
       "       755, 837])"
      ]
     },
     "execution_count": 33,
     "metadata": {},
     "output_type": "execute_result"
    }
   ],
   "source": [
    "np.cumsum(a)"
   ]
  },
  {
   "cell_type": "code",
   "execution_count": 34,
   "id": "d737233c-7942-49fb-b5e1-a82ba4e521a5",
   "metadata": {},
   "outputs": [
    {
     "data": {
      "text/plain": [
       "array([32, 42, 46,  2, 51, 11, 68, 91, 55, 91, 28, 71, 70, 97, 82])"
      ]
     },
     "execution_count": 34,
     "metadata": {},
     "output_type": "execute_result"
    }
   ],
   "source": [
    "a"
   ]
  },
  {
   "cell_type": "code",
   "execution_count": 35,
   "id": "cd28566f-bd8d-474b-9dc8-e6023f17ca37",
   "metadata": {},
   "outputs": [
    {
     "data": {
      "text/plain": [
       "array([         32,        1344,       61824,      123648,     6306048,\n",
       "          69366528,   421956608,  -256654336, -1231086592,  -359730176,\n",
       "       -1482510336,  2115948544,  2087510016,   625008640,  -288899072])"
      ]
     },
     "execution_count": 35,
     "metadata": {},
     "output_type": "execute_result"
    }
   ],
   "source": [
    "np.cumprod(a)"
   ]
  },
  {
   "cell_type": "markdown",
   "id": "3a005527-4a1d-4d9d-afb2-7380b218b3bf",
   "metadata": {},
   "source": [
    "### 9. np.percentile\n",
    "\n",
    "numpy.percentile()function used to compute the nth percentile of the given data (array elements) along the specified axis. \n",
    "\n",
    "https://numpy.org/doc/stable/reference/generated/numpy.percentile.html"
   ]
  },
  {
   "cell_type": "code",
   "execution_count": 36,
   "id": "acd738a9-14f0-47d6-91a0-2c3edad97f24",
   "metadata": {},
   "outputs": [
    {
     "data": {
      "text/plain": [
       "array([32, 42, 46,  2, 51, 11, 68, 91, 55, 91, 28, 71, 70, 97, 82])"
      ]
     },
     "execution_count": 36,
     "metadata": {},
     "output_type": "execute_result"
    }
   ],
   "source": [
    "a"
   ]
  },
  {
   "cell_type": "code",
   "execution_count": 37,
   "id": "a43bb168-6ae5-4591-bec2-1f7c67a6f30f",
   "metadata": {},
   "outputs": [
    {
     "data": {
      "text/plain": [
       "97.0"
      ]
     },
     "execution_count": 37,
     "metadata": {},
     "output_type": "execute_result"
    }
   ],
   "source": [
    "np.percentile(a,100)"
   ]
  },
  {
   "cell_type": "code",
   "execution_count": 38,
   "id": "c5dd4e75-2b15-468d-85f5-b9f1084be95c",
   "metadata": {},
   "outputs": [
    {
     "data": {
      "text/plain": [
       "2.0"
      ]
     },
     "execution_count": 38,
     "metadata": {},
     "output_type": "execute_result"
    }
   ],
   "source": [
    "np.percentile(a,0)"
   ]
  },
  {
   "cell_type": "code",
   "execution_count": 39,
   "id": "49dc70c1-1fad-45ce-b53a-681cc3c36cc5",
   "metadata": {},
   "outputs": [
    {
     "data": {
      "text/plain": [
       "55.0"
      ]
     },
     "execution_count": 39,
     "metadata": {},
     "output_type": "execute_result"
    }
   ],
   "source": [
    "np.percentile(a,50)"
   ]
  },
  {
   "cell_type": "markdown",
   "id": "b5a35b06-4468-4a2e-a672-1cbf38338adc",
   "metadata": {},
   "source": [
    "### 10. np.histogram\n",
    "\n",
    "Numpy has a built-in numpy.histogram() function which represents the frequency of data distribution in the graphical form.\n",
    "\n",
    "https://numpy.org/doc/stable/reference/generated/numpy.histogram.html"
   ]
  },
  {
   "cell_type": "code",
   "execution_count": 40,
   "id": "c5d3a5f9-6503-46f7-9eaf-788d33af2a24",
   "metadata": {},
   "outputs": [
    {
     "data": {
      "text/plain": [
       "array([32, 42, 46,  2, 51, 11, 68, 91, 55, 91, 28, 71, 70, 97, 82])"
      ]
     },
     "execution_count": 40,
     "metadata": {},
     "output_type": "execute_result"
    }
   ],
   "source": [
    "a "
   ]
  },
  {
   "cell_type": "code",
   "execution_count": 42,
   "id": "b0a46cec-9a69-48cb-9931-13fd87251aae",
   "metadata": {},
   "outputs": [
    {
     "data": {
      "text/plain": [
       "(array([1, 1, 1, 1, 2, 2, 1, 2, 1, 3], dtype=int64),\n",
       " array([  0,  10,  20,  30,  40,  50,  60,  70,  80,  90, 100]))"
      ]
     },
     "execution_count": 42,
     "metadata": {},
     "output_type": "execute_result"
    }
   ],
   "source": [
    "np.histogram(a, bins=[0,10,20,30,40,50,60,70,80,90,100])"
   ]
  },
  {
   "cell_type": "markdown",
   "id": "85192f7a-78fb-45d0-8d29-16f13f62534d",
   "metadata": {},
   "source": [
    "### 11. np.corrcoef\n",
    "\n",
    "Return Pearson product-moment correlation coefficients.\n",
    "\n",
    "https://numpy.org/doc/stable/reference/generated/numpy.corrcoef.html"
   ]
  },
  {
   "cell_type": "code",
   "execution_count": 45,
   "id": "3a002c99-c36f-4530-9299-fea68b63e9cd",
   "metadata": {},
   "outputs": [
    {
     "data": {
      "text/plain": [
       "array([32, 42, 46,  2, 51, 11, 68, 91, 55, 91, 28, 71, 70, 97, 82])"
      ]
     },
     "execution_count": 45,
     "metadata": {},
     "output_type": "execute_result"
    }
   ],
   "source": [
    "a"
   ]
  },
  {
   "cell_type": "code",
   "execution_count": 47,
   "id": "ec689eab-6801-4658-9d2b-e0124f8a5bc3",
   "metadata": {},
   "outputs": [
    {
     "data": {
      "text/plain": [
       "array([73, 88, 43, 65,  2, 62, 46, 55, 40, 17,  8, 53, 89, 29, 82])"
      ]
     },
     "execution_count": 47,
     "metadata": {},
     "output_type": "execute_result"
    }
   ],
   "source": [
    "b = np.random.randint(1,100,15)\n",
    "b"
   ]
  },
  {
   "cell_type": "code",
   "execution_count": 50,
   "id": "6cf10a8f-f796-4dd7-88b9-6ac707b1ab37",
   "metadata": {},
   "outputs": [
    {
     "data": {
      "text/plain": [
       "array([[ 1.        , -0.12399169],\n",
       "       [-0.12399169,  1.        ]])"
      ]
     },
     "execution_count": 50,
     "metadata": {},
     "output_type": "execute_result"
    }
   ],
   "source": [
    "np.corrcoef(a,b)"
   ]
  },
  {
   "cell_type": "code",
   "execution_count": 55,
   "id": "d3ac5b4c-7c90-4a37-93f0-ebcbb89770e9",
   "metadata": {},
   "outputs": [
    {
     "data": {
      "text/plain": [
       "array([[1.        , 0.95746162],\n",
       "       [0.95746162, 1.        ]])"
      ]
     },
     "execution_count": 55,
     "metadata": {},
     "output_type": "execute_result"
    }
   ],
   "source": [
    "salary = np.array([20000,40000,25000,35000,60000])\n",
    "exp = np.array([1,3,2,2,4])\n",
    "\n",
    "np.corrcoef(salary, exp)"
   ]
  },
  {
   "cell_type": "markdown",
   "id": "c7a52f19-74ca-4188-9d6c-7fda21c45c62",
   "metadata": {},
   "source": [
    "### 12. np.isin\n",
    "\n",
    "With the help of numpy.isin() method, we can see that one array having values are checked in a different numpy array having different elements with different sizes.\n",
    "\n",
    "https://numpy.org/doc/stable/reference/generated/numpy.isin.html"
   ]
  },
  {
   "cell_type": "code",
   "execution_count": 56,
   "id": "6bfcc312-ddf4-4909-95df-39e4ec77d7ec",
   "metadata": {},
   "outputs": [
    {
     "data": {
      "text/plain": [
       "array([32, 42, 46,  2, 51, 11, 68, 91, 55, 91, 28, 71, 70, 97, 82])"
      ]
     },
     "execution_count": 56,
     "metadata": {},
     "output_type": "execute_result"
    }
   ],
   "source": [
    "a"
   ]
  },
  {
   "cell_type": "code",
   "execution_count": 59,
   "id": "f1605c29-c677-42f5-8aed-67b29ac372a2",
   "metadata": {},
   "outputs": [
    {
     "data": {
      "text/plain": [
       "array([70])"
      ]
     },
     "execution_count": 59,
     "metadata": {},
     "output_type": "execute_result"
    }
   ],
   "source": [
    "items = [10,20,30,40,50,60,70,80,90]\n",
    "a[np.isin(a, items)]"
   ]
  },
  {
   "cell_type": "markdown",
   "id": "5a3cc302-70aa-4cf7-af62-65a5cbd5ec4c",
   "metadata": {},
   "source": [
    "### 13. np.flip\n",
    "\n",
    "The numpy.flip() function reverses the order of array elements along the specified axis, preserving the shape of the array.\n",
    "\n",
    "https://numpy.org/doc/stable/reference/generated/numpy.flip.html"
   ]
  },
  {
   "cell_type": "code",
   "execution_count": 60,
   "id": "9475e170-11f6-4088-9ef3-6a3aaedd2c15",
   "metadata": {},
   "outputs": [
    {
     "data": {
      "text/plain": [
       "array([32, 42, 46,  2, 51, 11, 68, 91, 55, 91, 28, 71, 70, 97, 82])"
      ]
     },
     "execution_count": 60,
     "metadata": {},
     "output_type": "execute_result"
    }
   ],
   "source": [
    "a"
   ]
  },
  {
   "cell_type": "code",
   "execution_count": 61,
   "id": "cfbc4ade-8bdf-496e-92b0-db63e165798b",
   "metadata": {},
   "outputs": [
    {
     "data": {
      "text/plain": [
       "array([ 2, 11, 28, 32, 42, 46, 51, 55, 68, 70, 71, 82, 91, 91, 97])"
      ]
     },
     "execution_count": 61,
     "metadata": {},
     "output_type": "execute_result"
    }
   ],
   "source": [
    "np.sort(a)"
   ]
  },
  {
   "cell_type": "code",
   "execution_count": 63,
   "id": "c765e5ec-0124-4c93-bc80-3992dc3134a7",
   "metadata": {},
   "outputs": [
    {
     "data": {
      "text/plain": [
       "array([97, 91, 91, 82, 71, 70, 68, 55, 51, 46, 42, 32, 28, 11,  2])"
      ]
     },
     "execution_count": 63,
     "metadata": {},
     "output_type": "execute_result"
    }
   ],
   "source": [
    "np.flip(np.sort(a))"
   ]
  },
  {
   "cell_type": "markdown",
   "id": "b4d32f73-4b6e-446d-9767-2bcb1bfdf23f",
   "metadata": {},
   "source": [
    "### 14. np.put\n",
    "\n",
    "The numpy.put() function replaces specific elements of an array with given values of p_array. Array indexed works on flattened array. \n",
    "\n",
    "https://numpy.org/doc/stable/reference/generated/numpy.put.html"
   ]
  },
  {
   "cell_type": "code",
   "execution_count": 64,
   "id": "01282630-ce6e-4531-aed3-b7bdb721ead4",
   "metadata": {},
   "outputs": [
    {
     "data": {
      "text/plain": [
       "array([32, 42, 46,  2, 51, 11, 68, 91, 55, 91, 28, 71, 70, 97, 82])"
      ]
     },
     "execution_count": 64,
     "metadata": {},
     "output_type": "execute_result"
    }
   ],
   "source": [
    "a"
   ]
  },
  {
   "cell_type": "code",
   "execution_count": 65,
   "id": "8de46d19-b582-4666-9e21-a8db2a60cc49",
   "metadata": {},
   "outputs": [],
   "source": [
    "# np.put(variable, index, valur to replace)\n",
    "np.put(a,[0,1],[100,234])"
   ]
  },
  {
   "cell_type": "code",
   "execution_count": 66,
   "id": "342bc874-ee24-4c3b-a43f-d786bfaff986",
   "metadata": {},
   "outputs": [
    {
     "data": {
      "text/plain": [
       "array([100, 234,  46,   2,  51,  11,  68,  91,  55,  91,  28,  71,  70,\n",
       "        97,  82])"
      ]
     },
     "execution_count": 66,
     "metadata": {},
     "output_type": "execute_result"
    }
   ],
   "source": [
    "a"
   ]
  },
  {
   "cell_type": "markdown",
   "id": "cd8fc79d-b8f6-4a67-8478-72550238d904",
   "metadata": {},
   "source": [
    "### 15. np.delete\n",
    "\n",
    "The numpy.delete() function returns a new array with the deletion of sub-arrays along with the mentioned axis. \n",
    "\n",
    "https://numpy.org/doc/stable/reference/generated/numpy.delete.html"
   ]
  },
  {
   "cell_type": "code",
   "execution_count": 67,
   "id": "81e06831-85c3-4f8c-a4d0-0312c74be5e0",
   "metadata": {},
   "outputs": [
    {
     "data": {
      "text/plain": [
       "array([100, 234,  46,   2,  51,  11,  68,  91,  55,  91,  28,  71,  70,\n",
       "        97,  82])"
      ]
     },
     "execution_count": 67,
     "metadata": {},
     "output_type": "execute_result"
    }
   ],
   "source": [
    "a"
   ]
  },
  {
   "cell_type": "code",
   "execution_count": 69,
   "id": "5490b156-b8c5-4ce5-a66b-043b9e28647e",
   "metadata": {},
   "outputs": [
    {
     "data": {
      "text/plain": [
       "array([100, 234,  46,   2,  51,  68,  91,  55,  91,  28,  71,  70,  97,\n",
       "        82])"
      ]
     },
     "execution_count": 69,
     "metadata": {},
     "output_type": "execute_result"
    }
   ],
   "source": [
    "np.delete(a,[5])"
   ]
  },
  {
   "cell_type": "markdown",
   "id": "0521731d-1014-4f57-b964-72394d98f7e2",
   "metadata": {},
   "source": [
    "### 16. Set functions\n",
    "\n",
    "- np.union1d\n",
    "- np.intersect1d\n",
    "- np.setdiff1d\n",
    "- np.setxor1d\n",
    "- np.in1d"
   ]
  },
  {
   "cell_type": "code",
   "execution_count": 73,
   "id": "412f68e7-473b-4b90-ba65-4377dc898c77",
   "metadata": {},
   "outputs": [],
   "source": [
    "m = np.array([1,2,3,4,5])\n",
    "n = np.array([3,4,5,6,7])"
   ]
  },
  {
   "cell_type": "code",
   "execution_count": 74,
   "id": "c569e720-3bf4-43c6-99b9-f0caafca9b89",
   "metadata": {},
   "outputs": [
    {
     "data": {
      "text/plain": [
       "array([1, 2, 3, 4, 5, 6, 7])"
      ]
     },
     "execution_count": 74,
     "metadata": {},
     "output_type": "execute_result"
    }
   ],
   "source": [
    "np.union1d(m,n)"
   ]
  },
  {
   "cell_type": "code",
   "execution_count": 75,
   "id": "4cc23ee5-5dc7-453b-85eb-d09d1c9c0362",
   "metadata": {},
   "outputs": [
    {
     "data": {
      "text/plain": [
       "array([3, 4, 5])"
      ]
     },
     "execution_count": 75,
     "metadata": {},
     "output_type": "execute_result"
    }
   ],
   "source": [
    "np.intersect1d(m,n)"
   ]
  },
  {
   "cell_type": "code",
   "execution_count": 77,
   "id": "87d00a1c-f777-4a7a-8ddb-1de2eaa8ebe1",
   "metadata": {},
   "outputs": [
    {
     "data": {
      "text/plain": [
       "array([1, 2])"
      ]
     },
     "execution_count": 77,
     "metadata": {},
     "output_type": "execute_result"
    }
   ],
   "source": [
    "np.setdiff1d(m,n)"
   ]
  },
  {
   "cell_type": "code",
   "execution_count": 78,
   "id": "3716bc23-bf3a-4c9a-a88d-f012456f7a26",
   "metadata": {},
   "outputs": [
    {
     "data": {
      "text/plain": [
       "array([6, 7])"
      ]
     },
     "execution_count": 78,
     "metadata": {},
     "output_type": "execute_result"
    }
   ],
   "source": [
    "np.setdiff1d(n,m)"
   ]
  },
  {
   "cell_type": "code",
   "execution_count": 79,
   "id": "dc954217-944c-4e91-b372-c1b530970354",
   "metadata": {},
   "outputs": [
    {
     "data": {
      "text/plain": [
       "array([1, 2, 6, 7])"
      ]
     },
     "execution_count": 79,
     "metadata": {},
     "output_type": "execute_result"
    }
   ],
   "source": [
    "np.setxor1d(m,n)"
   ]
  },
  {
   "cell_type": "code",
   "execution_count": 81,
   "id": "3107bf75-3815-428a-bc1c-ae9a8d939c38",
   "metadata": {},
   "outputs": [
    {
     "data": {
      "text/plain": [
       "array([False, False,  True, False, False])"
      ]
     },
     "execution_count": 81,
     "metadata": {},
     "output_type": "execute_result"
    }
   ],
   "source": [
    "np.in1d(m,3)"
   ]
  },
  {
   "cell_type": "markdown",
   "id": "2959e9c8-ccc2-489d-9a0d-54739b7572b5",
   "metadata": {},
   "source": [
    "### 17. np.clip\n",
    "\n",
    "numpy.clip() function is used to Clip (limit) the values in an array.\n",
    "\n",
    "https://numpy.org/doc/stable/reference/generated/numpy.clip.html"
   ]
  },
  {
   "cell_type": "code",
   "execution_count": 82,
   "id": "961a00b8-6160-4082-bbf7-0f188c52882e",
   "metadata": {},
   "outputs": [
    {
     "data": {
      "text/plain": [
       "array([100, 234,  46,   2,  51,  11,  68,  91,  55,  91,  28,  71,  70,\n",
       "        97,  82])"
      ]
     },
     "execution_count": 82,
     "metadata": {},
     "output_type": "execute_result"
    }
   ],
   "source": [
    "a"
   ]
  },
  {
   "cell_type": "code",
   "execution_count": 84,
   "id": "2445cce5-1be8-45b7-980b-aadb532864cb",
   "metadata": {},
   "outputs": [
    {
     "data": {
      "text/plain": [
       "array([75, 75, 46, 25, 51, 25, 68, 75, 55, 75, 28, 71, 70, 75, 75])"
      ]
     },
     "execution_count": 84,
     "metadata": {},
     "output_type": "execute_result"
    }
   ],
   "source": [
    "np.clip(a, a_max=75, a_min=25)"
   ]
  },
  {
   "cell_type": "code",
   "execution_count": 87,
   "id": "b6a10c0c-d0e8-4f86-90cf-985fcffe26a7",
   "metadata": {},
   "outputs": [],
   "source": [
    "# np.swapaxes"
   ]
  },
  {
   "cell_type": "code",
   "execution_count": null,
   "id": "fa51c33a-a936-41b7-b209-f1225ffcb4e8",
   "metadata": {},
   "outputs": [],
   "source": [
    "# "
   ]
  }
 ],
 "metadata": {
  "kernelspec": {
   "display_name": "Python 3 (ipykernel)",
   "language": "python",
   "name": "python3"
  },
  "language_info": {
   "codemirror_mode": {
    "name": "ipython",
    "version": 3
   },
   "file_extension": ".py",
   "mimetype": "text/x-python",
   "name": "python",
   "nbconvert_exporter": "python",
   "pygments_lexer": "ipython3",
   "version": "3.12.7"
  }
 },
 "nbformat": 4,
 "nbformat_minor": 5
}
